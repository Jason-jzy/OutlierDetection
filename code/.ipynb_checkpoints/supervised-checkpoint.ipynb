{
 "cells": [
  {
   "cell_type": "code",
   "execution_count": 1,
   "metadata": {
    "collapsed": true
   },
   "outputs": [],
   "source": [
    "%matplotlib notebook\n",
    "import numpy as np\n",
    "import matplotlib.pyplot as plt\n",
    "import pandas as pd\n",
    "from sklearn.model_selection import train_test_split\n",
    "from sklearn.metrics import fbeta_score, precision_score, recall_score, confusion_matrix\n",
    "from sklearn.cluster import KMeans\n",
    "from sklearn.linear_model import LogisticRegression\n",
    "from sklearn.naive_bayes import GaussianNB\n",
    "from sklearn.tree import DecisionTreeClassifier\n",
    "from sklearn.svm import SVC\n",
    "from sklearn.discriminant_analysis import LinearDiscriminantAnalysis\n",
    "from sklearn.discriminant_analysis import QuadraticDiscriminantAnalysis\n",
    "from sklearn.ensemble import RandomForestClassifier\n",
    "from sklearn.ensemble import AdaBoostClassifier"
   ]
  },
  {
   "cell_type": "code",
   "execution_count": 2,
   "metadata": {
    "collapsed": true
   },
   "outputs": [],
   "source": [
    "data = pd.read_csv('../data/creditcard.csv')\n",
    "x = np.array(data.loc[1:len(data)-1, 'Time'])\n",
    "y = np.array(data.loc[0:len(data)-2, 'Time'])\n",
    "data.loc[1:, 'Time'] = x-y\n",
    "normal = data[data['Class']==0]\n",
    "anomaly = data[data['Class']==1]"
   ]
  },
  {
   "cell_type": "code",
   "execution_count": 3,
   "metadata": {},
   "outputs": [
    {
     "name": "stdout",
     "output_type": "stream",
     "text": [
      "Normal Train: (227452, 31) Normal Valid: (28431, 31) Normal Test: (28432, 31)\n",
      "Anomaly Train: (393, 31) Anomaly Valid: (49, 31) Anomaly Test: (50, 31)\n"
     ]
    }
   ],
   "source": [
    "train_normal, test_normal = train_test_split(normal, test_size=0.2, random_state=42)\n",
    "valid_normal, test_normal = train_test_split(test_normal, test_size=0.5, random_state=42)\n",
    "train_anomaly, test_anomaly = train_test_split(anomaly, test_size=0.2, random_state=42)\n",
    "valid_anomaly, test_anomaly = train_test_split(test_anomaly, test_size=0.5, random_state=42)\n",
    "\n",
    "for x in [train_normal, valid_normal, test_normal, train_anomaly, valid_anomaly, test_anomaly]:\n",
    "    x.reset_index(drop=True, inplace=True)\n",
    "\n",
    "print('Normal Train:', train_normal.shape, \n",
    "      'Normal Valid:', valid_normal.shape, \n",
    "      'Normal Test:', test_normal.shape)\n",
    "print('Anomaly Train:', train_anomaly.shape, \n",
    "      'Anomaly Valid:', valid_anomaly.shape, \n",
    "      'Anomaly Test:', test_anomaly.shape)"
   ]
  },
  {
   "cell_type": "code",
   "execution_count": 4,
   "metadata": {
    "collapsed": true
   },
   "outputs": [],
   "source": [
    "train = train_normal.append(train_anomaly).sample(frac=1, random_state=42).reset_index(drop=True)\n",
    "valid = valid_normal.append(valid_anomaly).sample(frac=1, random_state=42).reset_index(drop=True)\n",
    "test = test_normal.append(test_anomaly).sample(frac=1, random_state=42).reset_index(drop=True)"
   ]
  },
  {
   "cell_type": "code",
   "execution_count": 3,
   "metadata": {
    "collapsed": true
   },
   "outputs": [],
   "source": [
    "df = pd.DataFrame(data)\n",
    "outlier_length = int(sum(label))\n",
    "total_length = data.shape[0]\n",
    "feature_size = data.shape[1]\n",
    "# data_outlier = np.zeros([outlier_length, feature_size + 1])\n",
    "data_outlier = np.ones([outlier_length, feature_size + 1])\n",
    "data_normal = np.zeros([total_length - outlier_length, feature_size + 1])\n",
    "# data_normal = np.kron(np.arange(1, 101).reshape(-1, 1), \n",
    "#                       np.ones([int((total_length - outlier_length) / 100), \n",
    "#                                feature_size + 1]))\n",
    "#data_normal = np.append(data_normal, 99 * np.ones([feature_size + 1]).reshape(1, -1), \n",
    "#                        axis=0)\n",
    "data_outlier[:, :-1] = df[label == 1]\n",
    "data_normal[:, :-1] = df[label != 1]"
   ]
  },
  {
   "cell_type": "code",
   "execution_count": 4,
   "metadata": {
    "collapsed": true
   },
   "outputs": [],
   "source": [
    "np.random.shuffle(data_normal)\n",
    "np.random.shuffle(data_outlier)\n",
    "data_train_normal = data_normal[0:226640]\n",
    "data_val_normal = data_normal[226640:254970]\n",
    "data_test_normal = data_normal[254970:]\n",
    "data_train_outlier = data_outlier[0:2200]\n",
    "data_val_outlier = data_outlier[2200:2475]\n",
    "data_test_outlier = data_outlier[2475:]\n",
    "data_train = np.concatenate((data_train_normal, data_train_outlier), axis=0)\n",
    "data_val = np.concatenate((data_val_normal, data_val_outlier), axis=0)\n",
    "data_test = np.concatenate((data_test_normal, data_test_outlier), axis=0)\n",
    "np.random.shuffle(data_train)\n",
    "np.random.shuffle(data_val)\n",
    "np.random.shuffle(data_test)\n",
    "\n",
    "def shuffle():\n",
    "    np.random.shuffle(data_normal)\n",
    "    np.random.shuffle(data_outlier)\n",
    "    data_train_normal = data_normal[0:226640]\n",
    "    data_val_normal = data_normal[226640:254970]\n",
    "    data_test_normal = data_normal[254970:]\n",
    "    data_train_outlier = data_outlier[0:2200]\n",
    "    data_val_outlier = data_outlier[2200:2475]\n",
    "    data_test_outlier = data_outlier[2475:]\n",
    "    data_train = np.concatenate((data_train_normal, data_train_outlier), axis=0)\n",
    "    data_val = np.concatenate((data_val_normal, data_val_outlier), axis=0)\n",
    "    data_test = np.concatenate((data_test_normal, data_test_outlier), axis=0)\n",
    "    np.random.shuffle(data_train)\n",
    "    np.random.shuffle(data_val)\n",
    "    np.random.shuffle(data_test)"
   ]
  },
  {
   "cell_type": "code",
   "execution_count": 7,
   "metadata": {
    "collapsed": true
   },
   "outputs": [],
   "source": [
    "km = KMeans(n_clusters=10)"
   ]
  },
  {
   "cell_type": "code",
   "execution_count": 8,
   "metadata": {},
   "outputs": [
    {
     "data": {
      "text/plain": [
       "KMeans(algorithm='auto', copy_x=True, init='k-means++', max_iter=300,\n",
       "    n_clusters=10, n_init=10, n_jobs=1, precompute_distances='auto',\n",
       "    random_state=None, tol=0.0001, verbose=0)"
      ]
     },
     "execution_count": 8,
     "metadata": {},
     "output_type": "execute_result"
    }
   ],
   "source": [
    "km.fit(data)"
   ]
  },
  {
   "cell_type": "code",
   "execution_count": 9,
   "metadata": {},
   "outputs": [
    {
     "data": {
      "text/plain": [
       "1341596"
      ]
     },
     "execution_count": 9,
     "metadata": {},
     "output_type": "execute_result"
    }
   ],
   "source": [
    "sum(km.predict(data))"
   ]
  },
  {
   "cell_type": "code",
   "execution_count": 30,
   "metadata": {},
   "outputs": [
    {
     "name": "stdout",
     "output_type": "stream",
     "text": [
      "Recall: 0.64 \n",
      "Precision: 0.9411764705882353 \n",
      "F-score: 0.6837606837606838\n"
     ]
    },
    {
     "data": {
      "text/plain": [
       "array([[28430,     2],\n",
       "       [   18,    32]])"
      ]
     },
     "execution_count": 30,
     "metadata": {},
     "output_type": "execute_result"
    }
   ],
   "source": [
    "logistic = LogisticRegression(random_state=0, solver='newton-cg',\n",
    "                         multi_class='multinomial')\n",
    "logistic.fit(train.drop(columns=['Class']), train['Class'])\n",
    "\n",
    "predict_log = clf.predict(test.drop(columns=['Class']))\n",
    "\n",
    "x = test\n",
    "recall_log = recall_score(y_true=x['Class'].values, y_pred=predict_log)\n",
    "precision_log = precision_score(y_true=x['Class'].values, y_pred=predict_log)\n",
    "fbeta_log = fbeta_score(y_true=x['Class'].values, y_pred=predict_log, beta=2)\n",
    "\n",
    "print('Recall:', recall_log, '\\nPrecision:', precision_log, '\\nF-score:', fbeta_log)\n",
    "\n",
    "cnf_matrix_log = confusion_matrix(y_true=x['Class'].values, y_pred=predict_log)\n",
    "cnf_matrix_log"
   ]
  },
  {
   "cell_type": "code",
   "execution_count": 29,
   "metadata": {},
   "outputs": [
    {
     "name": "stdout",
     "output_type": "stream",
     "text": [
      "Recall: 0.82 \n",
      "Precision: 0.06047197640117994 \n",
      "F-score: 0.23348519362186787\n"
     ]
    },
    {
     "data": {
      "text/plain": [
       "array([[27795,   637],\n",
       "       [    9,    41]])"
      ]
     },
     "execution_count": 29,
     "metadata": {},
     "output_type": "execute_result"
    }
   ],
   "source": [
    "gnb = GaussianNB()\n",
    "gnb.fit(train.drop(columns=['Class']), train['Class'])\n",
    "\n",
    "predict_gnb = gnb.predict(test.drop(columns=['Class']))\n",
    "\n",
    "x = test\n",
    "recall_gnb = recall_score(y_true=x['Class'].values, y_pred=predict_gnb)\n",
    "precision_gnb = precision_score(y_true=x['Class'].values, y_pred=predict_gnb)\n",
    "fbeta_gnb = fbeta_score(y_true=x['Class'].values, y_pred=predict_gnb, beta=2)\n",
    "\n",
    "print('Recall:', recall_gnb, '\\nPrecision:', precision_gnb, '\\nF-score:', fbeta_gnb)\n",
    "\n",
    "cnf_matrix_gnb = confusion_matrix(y_true=x['Class'].values, y_pred=predict_gnb)\n",
    "cnf_matrix_gnb"
   ]
  },
  {
   "cell_type": "code",
   "execution_count": 34,
   "metadata": {},
   "outputs": [
    {
     "name": "stdout",
     "output_type": "stream",
     "text": [
      "Recall: 0.78 \n",
      "Precision: 0.7090909090909091 \n",
      "F-score: 0.7647058823529412\n"
     ]
    },
    {
     "data": {
      "text/plain": [
       "array([[28416,    16],\n",
       "       [   11,    39]])"
      ]
     },
     "execution_count": 34,
     "metadata": {},
     "output_type": "execute_result"
    }
   ],
   "source": [
    "tree = DecisionTreeClassifier(random_state=0)\n",
    "tree.fit(train.drop(columns=['Class']), train['Class'])\n",
    "\n",
    "predict_tree = tree.predict(test.drop(columns=['Class']))\n",
    "\n",
    "x = test\n",
    "recall_tree = recall_score(y_true=x['Class'].values, y_pred=predict_tree)\n",
    "precision_tree = precision_score(y_true=x['Class'].values, y_pred=predict_tree)\n",
    "fbeta_tree = fbeta_score(y_true=x['Class'].values, y_pred=predict_tree, beta=2)\n",
    "\n",
    "print('Recall:', recall_tree, '\\nPrecision:', precision_tree, '\\nF-score:', fbeta_tree)\n",
    "\n",
    "cnf_matrix_tree = confusion_matrix(y_true=x['Class'].values, y_pred=predict_tree)\n",
    "cnf_matrix_tree"
   ]
  },
  {
   "cell_type": "code",
   "execution_count": 10,
   "metadata": {},
   "outputs": [
    {
     "name": "stdout",
     "output_type": "stream",
     "text": [
      "Recall: 0.68 \n",
      "Precision: 0.8292682926829268 \n",
      "F-score: 0.7053941908713693\n"
     ]
    },
    {
     "data": {
      "text/plain": [
       "array([[28425,     7],\n",
       "       [   16,    34]])"
      ]
     },
     "execution_count": 10,
     "metadata": {},
     "output_type": "execute_result"
    }
   ],
   "source": [
    "SVM = SVC(kernel='linear',C=0.4)\n",
    "SVM.fit(train.iloc[0:20000].drop(columns=['Class']), train.iloc[0:20000]['Class'])\n",
    "\n",
    "predict = SVM.predict(test.drop(columns=['Class']))\n",
    "\n",
    "x = test\n",
    "recall = recall_score(y_true=x['Class'].values, y_pred=predict)\n",
    "precision = precision_score(y_true=x['Class'].values, y_pred=predict)\n",
    "fbeta = fbeta_score(y_true=x['Class'].values, y_pred=predict, beta=2)\n",
    "\n",
    "print('Recall:', recall, '\\nPrecision:', precision, '\\nF-score:', fbeta)\n",
    "\n",
    "cnf_matrix = confusion_matrix(y_true=x['Class'].values, y_pred=predict)\n",
    "cnf_matrix"
   ]
  },
  {
   "cell_type": "code",
   "execution_count": 7,
   "metadata": {},
   "outputs": [
    {
     "name": "stdout",
     "output_type": "stream",
     "text": [
      "Recall: 0.74 \n",
      "Precision: 0.8809523809523809 \n",
      "F-score: 0.7644628099173555\n"
     ]
    },
    {
     "data": {
      "text/plain": [
       "array([[28427,     5],\n",
       "       [   13,    37]])"
      ]
     },
     "execution_count": 7,
     "metadata": {},
     "output_type": "execute_result"
    }
   ],
   "source": [
    "lda = LinearDiscriminantAnalysis()\n",
    "lda.fit(train.drop(columns=['Class']), train['Class'])\n",
    "\n",
    "predict = lda.predict(test.drop(columns=['Class']))\n",
    "\n",
    "x = test\n",
    "recall = recall_score(y_true=x['Class'].values, y_pred=predict)\n",
    "precision = precision_score(y_true=x['Class'].values, y_pred=predict)\n",
    "fbeta = fbeta_score(y_true=x['Class'].values, y_pred=predict, beta=2)\n",
    "\n",
    "print('Recall:', recall, '\\nPrecision:', precision, '\\nF-score:', fbeta)\n",
    "\n",
    "cnf_matrix = confusion_matrix(y_true=x['Class'].values, y_pred=predict)\n",
    "cnf_matrix"
   ]
  },
  {
   "cell_type": "code",
   "execution_count": 36,
   "metadata": {},
   "outputs": [
    {
     "name": "stdout",
     "output_type": "stream",
     "text": [
      "Recall: 0.9 \n",
      "Precision: 0.06089309878213803 \n",
      "F-score: 0.23961661341853036\n"
     ]
    },
    {
     "data": {
      "text/plain": [
       "array([[27738,   694],\n",
       "       [    5,    45]])"
      ]
     },
     "execution_count": 36,
     "metadata": {},
     "output_type": "execute_result"
    }
   ],
   "source": [
    "qda = QuadraticDiscriminantAnalysis()\n",
    "qda.fit(train.drop(columns=['Class']), train['Class'])\n",
    "\n",
    "predict = qda.predict(test.drop(columns=['Class']))\n",
    "\n",
    "x = test\n",
    "recall = recall_score(y_true=x['Class'].values, y_pred=predict)\n",
    "precision = precision_score(y_true=x['Class'].values, y_pred=predict)\n",
    "fbeta = fbeta_score(y_true=x['Class'].values, y_pred=predict, beta=2)\n",
    "\n",
    "print('Recall:', recall, '\\nPrecision:', precision, '\\nF-score:', fbeta)\n",
    "\n",
    "cnf_matrix = confusion_matrix(y_true=x['Class'].values, y_pred=predict)\n",
    "cnf_matrix"
   ]
  },
  {
   "cell_type": "code",
   "execution_count": 5,
   "metadata": {},
   "outputs": [
    {
     "name": "stderr",
     "output_type": "stream",
     "text": [
      "/Users/jiazeyu/anaconda3/envs/ml/lib/python3.6/site-packages/sklearn/ensemble/forest.py:246: FutureWarning: The default value of n_estimators will change from 10 in version 0.20 to 100 in 0.22.\n",
      "  \"10 in version 0.20 to 100 in 0.22.\", FutureWarning)\n"
     ]
    },
    {
     "name": "stdout",
     "output_type": "stream",
     "text": [
      "Recall: 0.78 \n",
      "Precision: 0.9285714285714286 \n",
      "F-score: 0.8057851239669421\n"
     ]
    },
    {
     "data": {
      "text/plain": [
       "array([[28429,     3],\n",
       "       [   11,    39]])"
      ]
     },
     "execution_count": 5,
     "metadata": {},
     "output_type": "execute_result"
    }
   ],
   "source": [
    "rfc = RandomForestClassifier()\n",
    "rfc.fit(train.drop(columns=['Class']), train['Class'])\n",
    "\n",
    "predict = rfc.predict(test.drop(columns=['Class']))\n",
    "\n",
    "x = test\n",
    "recall = recall_score(y_true=x['Class'].values, y_pred=predict)\n",
    "precision = precision_score(y_true=x['Class'].values, y_pred=predict)\n",
    "fbeta = fbeta_score(y_true=x['Class'].values, y_pred=predict, beta=2)\n",
    "\n",
    "print('Recall:', recall, '\\nPrecision:', precision, '\\nF-score:', fbeta)\n",
    "\n",
    "cnf_matrix = confusion_matrix(y_true=x['Class'].values, y_pred=predict)\n",
    "cnf_matrix"
   ]
  },
  {
   "cell_type": "code",
   "execution_count": 29,
   "metadata": {},
   "outputs": [
    {
     "name": "stdout",
     "output_type": "stream",
     "text": [
      "Recall: 0.1 \n",
      "Precision: 0.38461538461538464 \n",
      "F-score: 0.11737089201877934\n"
     ]
    },
    {
     "data": {
      "text/plain": [
       "array([[28424,     8],\n",
       "       [   45,     5]])"
      ]
     },
     "execution_count": 29,
     "metadata": {},
     "output_type": "execute_result"
    }
   ],
   "source": [
    "adb = AdaBoostClassifier(GaussianNB(),\n",
    "                         n_estimators=50)\n",
    "adb.fit(train.drop(columns=['Class']), train['Class'])\n",
    "\n",
    "predict = adb.predict(test.drop(columns=['Class']))\n",
    "\n",
    "x = test\n",
    "recall = recall_score(y_true=x['Class'].values, y_pred=predict)\n",
    "precision = precision_score(y_true=x['Class'].values, y_pred=predict)\n",
    "fbeta = fbeta_score(y_true=x['Class'].values, y_pred=predict, beta=2)\n",
    "\n",
    "print('Recall:', recall, '\\nPrecision:', precision, '\\nF-score:', fbeta)\n",
    "\n",
    "cnf_matrix = confusion_matrix(y_true=x['Class'].values, y_pred=predict)\n",
    "cnf_matrix"
   ]
  },
  {
   "cell_type": "code",
   "execution_count": null,
   "metadata": {
    "collapsed": true
   },
   "outputs": [],
   "source": []
  }
 ],
 "metadata": {
  "kernelspec": {
   "display_name": "Python ml",
   "language": "python",
   "name": "ml"
  },
  "language_info": {
   "codemirror_mode": {
    "name": "ipython",
    "version": 3
   },
   "file_extension": ".py",
   "mimetype": "text/x-python",
   "name": "python",
   "nbconvert_exporter": "python",
   "pygments_lexer": "ipython3",
   "version": "3.6.7"
  }
 },
 "nbformat": 4,
 "nbformat_minor": 2
}
