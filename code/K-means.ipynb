{
 "cells": [
  {
   "cell_type": "code",
   "execution_count": 2,
   "metadata": {
    "collapsed": true
   },
   "outputs": [],
   "source": [
    "%matplotlib notebook\n",
    "import numpy as np\n",
    "import matplotlib.pyplot as plt\n",
    "import pandas as pd\n",
    "\n",
    "from sklearn.model_selection import train_test_split\n",
    "from sklearn.metrics import fbeta_score, precision_score, recall_score, confusion_matrix\n",
    "from sklearn.cluster import KMeans\n",
    "from sklearn.base import BaseEstimator, ClassifierMixin\n",
    "from sklearn.tree import DecisionTreeClassifier"
   ]
  },
  {
   "cell_type": "code",
   "execution_count": 3,
   "metadata": {
    "collapsed": true
   },
   "outputs": [],
   "source": [
    "data = pd.read_csv('../data/creditcard.csv')\n",
    "x = np.array(data.loc[1:len(data)-1, 'Time'])\n",
    "y = np.array(data.loc[0:len(data)-2, 'Time'])\n",
    "data.loc[1:, 'Time'] = x-y\n",
    "normal = data[data['Class']==0]\n",
    "anomaly = data[data['Class']==1]"
   ]
  },
  {
   "cell_type": "code",
   "execution_count": 4,
   "metadata": {},
   "outputs": [
    {
     "name": "stdout",
     "output_type": "stream",
     "text": [
      "Normal Train: (170589, 31) Normal Valid: (56863, 31) Normal Test: (56863, 31)\n",
      "Anomaly Train: (295, 31) Anomaly Valid: (98, 31) Anomaly Test: (99, 31)\n"
     ]
    }
   ],
   "source": [
    "train_normal, test_normal = train_test_split(normal, test_size=0.4, random_state=42)\n",
    "valid_normal, test_normal = train_test_split(test_normal, test_size=0.5, random_state=42)\n",
    "train_anomaly, test_anomaly = train_test_split(anomaly, test_size=0.4, random_state=42)\n",
    "valid_anomaly, test_anomaly = train_test_split(test_anomaly, test_size=0.5, random_state=42)\n",
    "\n",
    "for x in [train_normal, valid_normal, test_normal, train_anomaly, valid_anomaly, test_anomaly]:\n",
    "    x.reset_index(drop=True, inplace=True)\n",
    "\n",
    "print('Normal Train:', train_normal.shape, \n",
    "      'Normal Valid:', valid_normal.shape, \n",
    "      'Normal Test:', test_normal.shape)\n",
    "print('Anomaly Train:', train_anomaly.shape, \n",
    "      'Anomaly Valid:', valid_anomaly.shape, \n",
    "      'Anomaly Test:', test_anomaly.shape)"
   ]
  },
  {
   "cell_type": "code",
   "execution_count": 5,
   "metadata": {
    "collapsed": true
   },
   "outputs": [],
   "source": [
    "train_normal.shape[0]\n",
    "p = 0.9\n",
    "train_normal_1 = train_normal[:(int)(p * train_normal.shape[0])]\n",
    "train_normal_2 = train_normal[(int)(p * train_normal.shape[0]):]"
   ]
  },
  {
   "cell_type": "code",
   "execution_count": 6,
   "metadata": {},
   "outputs": [
    {
     "data": {
      "text/plain": [
       "(17059, 31)"
      ]
     },
     "execution_count": 6,
     "metadata": {},
     "output_type": "execute_result"
    }
   ],
   "source": [
    "train_normal_2.shape"
   ]
  },
  {
   "cell_type": "code",
   "execution_count": 7,
   "metadata": {
    "collapsed": true
   },
   "outputs": [],
   "source": [
    "train = train_normal.append(train_anomaly).sample(frac=1, random_state=42).reset_index(drop=True)\n",
    "valid = valid_normal.append(valid_anomaly).sample(frac=1, random_state=42).reset_index(drop=True)\n",
    "test = test_normal.append(test_anomaly).sample(frac=1, random_state=42).reset_index(drop=True)"
   ]
  },
  {
   "cell_type": "code",
   "execution_count": 8,
   "metadata": {
    "collapsed": true
   },
   "outputs": [],
   "source": [
    "def print_data(model):\n",
    "    x = train\n",
    "    predict_model = model.predict(x.drop(columns=['Class']))\n",
    "    recall_model = recall_score(y_true=x['Class'].values, y_pred=predict_model)\n",
    "    precision_model = precision_score(y_true=x['Class'].values, y_pred=predict_model)\n",
    "    fbeta_model = fbeta_score(y_true=x['Class'].values, y_pred=predict_model, beta=1)\n",
    "\n",
    "    print('Train: Recall:', recall_model, \n",
    "          '\\nTrain Precision:', precision_model, \n",
    "          '\\nTrain F-score:', fbeta_model)\n",
    "\n",
    "    x = valid\n",
    "    predict_model = model.predict(x.drop(columns=['Class']))\n",
    "    recall_model = recall_score(y_true=x['Class'].values, y_pred=predict_model)\n",
    "    precision_model = precision_score(y_true=x['Class'].values, y_pred=predict_model)\n",
    "    fbeta_model = fbeta_score(y_true=x['Class'].values, y_pred=predict_model, beta=1)\n",
    "\n",
    "    print('Valid Recall:', recall_model, \n",
    "          '\\nValid Precision:', precision_model, \n",
    "          '\\nValid F-score:', fbeta_model)\n",
    "\n",
    "    x = test\n",
    "    predict_model = model.predict(x.drop(columns=['Class']))\n",
    "    recall_model = recall_score(y_true=x['Class'].values, y_pred=predict_model)\n",
    "    precision_model = precision_score(y_true=x['Class'].values, y_pred=predict_model)\n",
    "    fbeta_model = fbeta_score(y_true=x['Class'].values, y_pred=predict_model, beta=1)\n",
    "\n",
    "    print('Test Recall:', recall_model, \n",
    "          '\\nTest Precision:', precision_model, \n",
    "          '\\nTest F-score:', fbeta_model)\n",
    "\n",
    "    #cnf_matrix_model = confusion_matrix(y_true=x['Class'].values, y_pred=predict_model)\n",
    "    #cnf_matrix_model"
   ]
  },
  {
   "cell_type": "code",
   "execution_count": 9,
   "metadata": {
    "collapsed": true
   },
   "outputs": [],
   "source": [
    "class KNDClassifier(BaseEstimator, ClassifierMixin):\n",
    "    def __init__(self, n_cluster = 10, tree_depth = 5):\n",
    "        self.n_cluster = n_cluster\n",
    "        self.tree_depth = tree_depth\n",
    "        \n",
    "    def fit(self, X1, X2, y):\n",
    "        self.kmeans = KMeans(n_clusters=self.n_cluster, random_state=42)\n",
    "        self.kmeans.fit(X1)\n",
    "        self.centers = self.kmeans.cluster_centers_\n",
    "        l = X2.shape[0]\n",
    "        a = np.repeat(np.expand_dims(self.centers, axis=0), l, axis=0)\n",
    "        b = np.repeat(np.expand_dims(X2, axis=1), self.n_cluster, axis=1)\n",
    "        features = np.sqrt(np.sum(np.square(a-b), axis=2))\n",
    "        self.tree = DecisionTreeClassifier(criterion = 'entropy', max_depth=self.tree_depth)\n",
    "        self.tree.fit(features, y)\n",
    "        return self\n",
    "        \n",
    "    def predict(self, X):\n",
    "        l = X.shape[0]\n",
    "        a = np.repeat(np.expand_dims(self.centers, axis=0), l, axis=0)\n",
    "        b = np.repeat(np.expand_dims(X, axis=1), self.n_cluster, axis=1)\n",
    "        features = np.sqrt(np.sum((a - b) ** 2, axis=2))\n",
    "        return self.tree.predict(features)"
   ]
  },
  {
   "cell_type": "code",
   "execution_count": 10,
   "metadata": {
    "collapsed": true
   },
   "outputs": [],
   "source": [
    "class KBDClassifier(BaseEstimator, ClassifierMixin):\n",
    "    def __init__(self, n_cluster_normal=3, n_cluster_outlier=4, tree_depth = 5):\n",
    "        self.n_cluster_normal = n_cluster_normal\n",
    "        self.n_cluster_outlier = n_cluster_outlier\n",
    "        self.n_cluster = self.n_cluster_normal + self.n_cluster_outlier\n",
    "        self.tree_depth = tree_depth\n",
    "        \n",
    "    def fit(self, X1, X2, X3, y):\n",
    "        self.kmeans_normal = KMeans(n_clusters=self.n_cluster_normal, random_state=42)\n",
    "        self.kmeans_normal.fit(X1)\n",
    "        self.centers_normal = self.kmeans_normal.cluster_centers_\n",
    "        self.kmeans_anomaly = KMeans(n_clusters=self.n_cluster_outlier, random_state=42)\n",
    "        self.kmeans_anomaly.fit(X2)\n",
    "        self.centers_anomaly = self.kmeans_anomaly.cluster_centers_\n",
    "        self.centers = np.concatenate([self.centers_normal, self.centers_anomaly], axis=0)\n",
    "        \n",
    "        l = X3.shape[0]\n",
    "        a = np.repeat(np.expand_dims(self.centers, axis=0), l, axis=0)\n",
    "        b = np.repeat(np.expand_dims(X3, axis=1), self.n_cluster, axis=1)\n",
    "        features = np.sqrt(np.sum(np.square(a-b), axis=2))\n",
    "        self.tree = DecisionTreeClassifier(criterion = 'entropy', max_depth=self.tree_depth)\n",
    "        self.tree.fit(features, y)\n",
    "        return self\n",
    "        \n",
    "    def predict(self, X):\n",
    "        l = X.shape[0]\n",
    "        a = np.repeat(np.expand_dims(self.centers, axis=0), l, axis=0)\n",
    "        b = np.repeat(np.expand_dims(X, axis=1), self.n_cluster, axis=1)\n",
    "        features = np.sqrt(np.sum((a - b) ** 2, axis=2))\n",
    "        return self.tree.predict(features)"
   ]
  },
  {
   "cell_type": "code",
   "execution_count": 11,
   "metadata": {},
   "outputs": [
    {
     "data": {
      "text/plain": [
       "KBDClassifier(n_cluster_normal=5, n_cluster_outlier=3, tree_depth=20)"
      ]
     },
     "execution_count": 11,
     "metadata": {},
     "output_type": "execute_result"
    }
   ],
   "source": [
    "kbd = KBDClassifier(n_cluster_normal=5,\n",
    "                    n_cluster_outlier=3,\n",
    "                    tree_depth=20)\n",
    "kbd.fit(train_normal.drop(columns=['Class']),\n",
    "        train_anomaly.drop(columns=['Class']),\n",
    "        train.drop(columns=['Class']), \n",
    "        train['Class'])"
   ]
  },
  {
   "cell_type": "code",
   "execution_count": 12,
   "metadata": {},
   "outputs": [
    {
     "name": "stdout",
     "output_type": "stream",
     "text": [
      "Train: Recall: 0.8847457627118644 \n",
      "Train Precision: 1.0 \n",
      "Train F-score: 0.9388489208633094\n",
      "Valid Recall: 0.5306122448979592 \n",
      "Valid Precision: 0.6933333333333334 \n",
      "Valid F-score: 0.6011560693641619\n",
      "Test Recall: 0.5656565656565656 \n",
      "Test Precision: 0.691358024691358 \n",
      "Test F-score: 0.6222222222222221\n"
     ]
    }
   ],
   "source": [
    "print_data(kbd)"
   ]
  },
  {
   "cell_type": "code",
   "execution_count": 167,
   "metadata": {},
   "outputs": [
    {
     "data": {
      "text/plain": [
       "KNDClassifier(n_cluster=5, tree_depth=5)"
      ]
     },
     "execution_count": 167,
     "metadata": {},
     "output_type": "execute_result"
    }
   ],
   "source": [
    "knd = KNDClassifier(n_cluster=5,\n",
    "                    tree_depth=5)\n",
    "knd.fit(train_normal.drop(columns=['Class']),\n",
    "        train.drop(columns=['Class']), \n",
    "        train['Class'])"
   ]
  },
  {
   "cell_type": "code",
   "execution_count": 169,
   "metadata": {},
   "outputs": [
    {
     "name": "stdout",
     "output_type": "stream",
     "text": [
      "Train: Recall: 0.14576271186440679 \n",
      "Train Precision: 0.8269230769230769 \n",
      "Train F-score: 0.2478386167146974\n",
      "Valid Recall: 0.10204081632653061 \n",
      "Valid Precision: 0.625 \n",
      "Valid F-score: 0.17543859649122806\n",
      "Test Recall: 0.1111111111111111 \n",
      "Test Precision: 0.5789473684210527 \n",
      "Test F-score: 0.18644067796610167\n"
     ]
    }
   ],
   "source": [
    "print_data(knd)"
   ]
  },
  {
   "cell_type": "code",
   "execution_count": null,
   "metadata": {
    "collapsed": true
   },
   "outputs": [],
   "source": []
  }
 ],
 "metadata": {
  "kernelspec": {
   "display_name": "Python ml",
   "language": "python",
   "name": "ml"
  },
  "language_info": {
   "codemirror_mode": {
    "name": "ipython",
    "version": 3
   },
   "file_extension": ".py",
   "mimetype": "text/x-python",
   "name": "python",
   "nbconvert_exporter": "python",
   "pygments_lexer": "ipython3",
   "version": "3.6.7"
  }
 },
 "nbformat": 4,
 "nbformat_minor": 2
}
