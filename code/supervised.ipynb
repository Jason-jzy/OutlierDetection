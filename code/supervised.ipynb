{
 "cells": [
  {
   "cell_type": "code",
   "execution_count": 35,
   "metadata": {
    "collapsed": true
   },
   "outputs": [],
   "source": [
    "%matplotlib notebook\n",
    "import numpy as np\n",
    "import matplotlib.pyplot as plt\n",
    "import pandas as pd\n",
    "from sklearn.model_selection import train_test_split\n",
    "from sklearn.metrics import fbeta_score, precision_score, recall_score, confusion_matrix\n",
    "from sklearn.cluster import KMeans\n",
    "from sklearn.linear_model import LogisticRegression\n",
    "from sklearn.naive_bayes import GaussianNB\n",
    "from sklearn.tree import DecisionTreeClassifier\n",
    "from sklearn.svm import SVC\n",
    "from sklearn.discriminant_analysis import LinearDiscriminantAnalysis\n",
    "from sklearn.discriminant_analysis import QuadraticDiscriminantAnalysis\n",
    "from sklearn.ensemble import RandomForestClassifier\n",
    "from sklearn.ensemble import AdaBoostClassifier\n",
    "from sklearn.neural_network import MLPClassifier\n",
    "from xgboost import XGBClassifier\n",
    "from sklearn.mixture import GaussianMixture\n",
    "from sklearn.ensemble import BaggingClassifier\n",
    "from sklearn.ensemble import VotingClassifier\n",
    "from sklearn.neighbors import KNeighborsClassifier"
   ]
  },
  {
   "cell_type": "code",
   "execution_count": 36,
   "metadata": {
    "collapsed": true
   },
   "outputs": [],
   "source": [
    "data = pd.read_csv('../data/creditcard.csv')\n",
    "x = np.array(data.loc[1:len(data)-1, 'Time'])\n",
    "y = np.array(data.loc[0:len(data)-2, 'Time'])\n",
    "data.loc[1:, 'Time'] = x-y\n",
    "normal = data[data['Class']==0]\n",
    "anomaly = data[data['Class']==1]"
   ]
  },
  {
   "cell_type": "code",
   "execution_count": 37,
   "metadata": {},
   "outputs": [
    {
     "name": "stdout",
     "output_type": "stream",
     "text": [
      "Normal Train: (278628, 31) Normal Valid: (2843, 31) Normal Test: (2844, 31)\n",
      "Anomaly Train: (295, 31) Anomaly Valid: (98, 31) Anomaly Test: (99, 31)\n"
     ]
    }
   ],
   "source": [
    "train_normal, test_normal = train_test_split(normal, test_size=0.02, random_state=42)\n",
    "valid_normal, test_normal = train_test_split(test_normal, test_size=0.5, random_state=42)\n",
    "train_anomaly, test_anomaly = train_test_split(anomaly, test_size=0.4, random_state=42)\n",
    "valid_anomaly, test_anomaly = train_test_split(test_anomaly, test_size=0.5, random_state=42)\n",
    "\n",
    "for x in [train_normal, valid_normal, test_normal, train_anomaly, valid_anomaly, test_anomaly]:\n",
    "    x.reset_index(drop=True, inplace=True)\n",
    "\n",
    "print('Normal Train:', train_normal.shape, \n",
    "      'Normal Valid:', valid_normal.shape, \n",
    "      'Normal Test:', test_normal.shape)\n",
    "print('Anomaly Train:', train_anomaly.shape, \n",
    "      'Anomaly Valid:', valid_anomaly.shape, \n",
    "      'Anomaly Test:', test_anomaly.shape)"
   ]
  },
  {
   "cell_type": "code",
   "execution_count": 38,
   "metadata": {
    "collapsed": true
   },
   "outputs": [],
   "source": [
    "train = train_normal.append(train_anomaly).sample(frac=1, random_state=42).reset_index(drop=True)\n",
    "valid = valid_normal.append(valid_anomaly).sample(frac=1, random_state=42).reset_index(drop=True)\n",
    "test = test_normal.append(test_anomaly).sample(frac=1, random_state=42).reset_index(drop=True)"
   ]
  },
  {
   "cell_type": "code",
   "execution_count": 39,
   "metadata": {
    "collapsed": true
   },
   "outputs": [],
   "source": [
    "def print_data(model):\n",
    "    x = train\n",
    "    predict_model = model.predict(x.drop(columns=['Class']))\n",
    "    recall_model = recall_score(y_true=x['Class'].values, y_pred=predict_model)\n",
    "    precision_model = precision_score(y_true=x['Class'].values, y_pred=predict_model)\n",
    "    fbeta_model = fbeta_score(y_true=x['Class'].values, y_pred=predict_model, beta=1)\n",
    "\n",
    "    print('Train Recall:', recall_model, \n",
    "          '\\nTrain Precision:', precision_model, \n",
    "          '\\nTrain F-score:', fbeta_model)\n",
    "\n",
    "    x = valid\n",
    "    predict_model = model.predict(x.drop(columns=['Class']))\n",
    "    recall_model = recall_score(y_true=x['Class'].values, y_pred=predict_model)\n",
    "    precision_model = precision_score(y_true=x['Class'].values, y_pred=predict_model)\n",
    "    fbeta_model = fbeta_score(y_true=x['Class'].values, y_pred=predict_model, beta=1)\n",
    "\n",
    "    print('Valid Recall:', recall_model, \n",
    "          '\\nValid Precision:', precision_model, \n",
    "          '\\nValid F-score:', fbeta_model)\n",
    "\n",
    "    x = test\n",
    "    predict_model = model.predict(x.drop(columns=['Class']))\n",
    "    recall_model = recall_score(y_true=x['Class'].values, y_pred=predict_model)\n",
    "    precision_model = precision_score(y_true=x['Class'].values, y_pred=predict_model)\n",
    "    fbeta_model = fbeta_score(y_true=x['Class'].values, y_pred=predict_model, beta=1)\n",
    "\n",
    "    print('Test Recall:', recall_model, \n",
    "          '\\nTest Precision:', precision_model, \n",
    "          '\\nTest F-score:', fbeta_model)\n",
    "\n",
    "    #cnf_matrix_model = confusion_matrix(y_true=x['Class'].values, y_pred=predict_model)\n",
    "    #cnf_matrix_model"
   ]
  },
  {
   "cell_type": "code",
   "execution_count": null,
   "metadata": {
    "collapsed": true
   },
   "outputs": [],
   "source": [
    "logistic = LogisticRegression(random_state=0, solver='newton-cg',\n",
    "                         multi_class='multinomial')\n",
    "logistic.fit(train.drop(columns=['Class']), train['Class'])"
   ]
  },
  {
   "cell_type": "code",
   "execution_count": 23,
   "metadata": {},
   "outputs": [
    {
     "name": "stdout",
     "output_type": "stream",
     "text": [
      "Recall: 0.5959595959595959 \n",
      "Precision: 0.8676470588235294 \n",
      "F-score: 0.6357758620689654\n"
     ]
    }
   ],
   "source": [
    "print_data(test, logistic)"
   ]
  },
  {
   "cell_type": "code",
   "execution_count": 7,
   "metadata": {},
   "outputs": [
    {
     "name": "stdout",
     "output_type": "stream",
     "text": [
      "Recall: 0.8282828282828283 \n",
      "Precision: 0.05758426966292135 \n",
      "F-score: 0.22527472527472528\n"
     ]
    },
    {
     "data": {
      "text/plain": [
       "array([[55521,  1342],\n",
       "       [   17,    82]])"
      ]
     },
     "execution_count": 7,
     "metadata": {},
     "output_type": "execute_result"
    }
   ],
   "source": [
    "gnb = GaussianNB()\n",
    "gnb.fit(train.drop(columns=['Class']), train['Class'])\n",
    "\n",
    "\n",
    "\n",
    "x = test\n",
    "recall_gnb = recall_score(y_true=x['Class'].values, y_pred=predict_gnb)\n",
    "precision_gnb = precision_score(y_true=x['Class'].values, y_pred=predict_gnb)\n",
    "fbeta_gnb = fbeta_score(y_true=x['Class'].values, y_pred=predict_gnb, beta=2)\n",
    "\n",
    "print('Recall:', recall_gnb, '\\nPrecision:', precision_gnb, '\\nF-score:', fbeta_gnb)\n",
    "\n",
    "cnf_matrix_gnb = confusion_matrix(y_true=x['Class'].values, y_pred=predict_gnb)\n",
    "cnf_matrix_gnb"
   ]
  },
  {
   "cell_type": "code",
   "execution_count": 43,
   "metadata": {},
   "outputs": [
    {
     "name": "stdout",
     "output_type": "stream",
     "text": [
      "Train Recall: 0.8711864406779661 \n",
      "Train Precision: 0.8210862619808307 \n",
      "Train F-score: 0.8453947368421052\n",
      "Valid Recall: 0.826530612244898 \n",
      "Valid Precision: 0.9878048780487805 \n",
      "Valid F-score: 0.9\n",
      "Test Recall: 0.8181818181818182 \n",
      "Test Precision: 1.0 \n",
      "Test F-score: 0.9\n"
     ]
    }
   ],
   "source": [
    "tree = DecisionTreeClassifier(criterion='gini', max_depth=7, class_weight={0:1, 1:20})\n",
    "tree.fit(train.drop(columns=['Class']), train['Class'])\n",
    "\n",
    "print_data(tree)"
   ]
  },
  {
   "cell_type": "code",
   "execution_count": 13,
   "metadata": {},
   "outputs": [
    {
     "name": "stdout",
     "output_type": "stream",
     "text": [
      "Recall: 0.5050505050505051 \n",
      "Precision: 0.9259259259259259 \n",
      "F-score: 0.5555555555555557\n"
     ]
    },
    {
     "data": {
      "text/plain": [
       "array([[56859,     4],\n",
       "       [   49,    50]])"
      ]
     },
     "execution_count": 13,
     "metadata": {},
     "output_type": "execute_result"
    }
   ],
   "source": [
    "SVM = SVC(kernel='linear',C=0.4)\n",
    "SVM.fit(train.iloc[0:20000].drop(columns=['Class']), train.iloc[0:20000]['Class'])\n",
    "\n",
    "print_data(test, SVM)\n",
    "print_data(train, SVM)\n",
    "print_data(valid, SVM)"
   ]
  },
  {
   "cell_type": "code",
   "execution_count": 25,
   "metadata": {},
   "outputs": [
    {
     "name": "stdout",
     "output_type": "stream",
     "text": [
      "Recall: 0.7777777777777778 \n",
      "Precision: 0.875 \n",
      "F-score: 0.7954545454545454\n",
      "Recall: 0.7423728813559322 \n",
      "Precision: 0.85546875 \n",
      "F-score: 0.7625348189415042\n",
      "Recall: 0.826530612244898 \n",
      "Precision: 0.8804347826086957 \n",
      "F-score: 0.8367768595041323\n"
     ]
    }
   ],
   "source": [
    "lda = LinearDiscriminantAnalysis()\n",
    "lda.fit(train.drop(columns=['Class']), train['Class'])\n",
    "\n",
    "print_data(test, lda)\n",
    "print_data(valid, lda)\n",
    "print_data(train, lda)"
   ]
  },
  {
   "cell_type": "code",
   "execution_count": 34,
   "metadata": {},
   "outputs": [
    {
     "name": "stdout",
     "output_type": "stream",
     "text": [
      "Recall: 0.7491525423728813 \n",
      "Precision: 0.8565891472868217 \n",
      "F-score: 0.7992766726943942\n",
      "Recall: 0.826530612244898 \n",
      "Precision: 0.8804347826086957 \n",
      "F-score: 0.8526315789473684\n",
      "Recall: 0.7777777777777778 \n",
      "Precision: 0.875 \n",
      "F-score: 0.823529411764706\n"
     ]
    }
   ],
   "source": [
    "lda_bagging = BaggingClassifier(LinearDiscriminantAnalysis(), n_estimators=5)\n",
    "lda_bagging.fit(train.drop(columns=['Class']), train['Class'])\n",
    "\n",
    "print_data(train, lda_bagging)\n",
    "print_data(valid, lda_bagging)\n",
    "print_data(test, lda_bagging)"
   ]
  },
  {
   "cell_type": "code",
   "execution_count": 26,
   "metadata": {
    "scrolled": false
   },
   "outputs": [
    {
     "name": "stdout",
     "output_type": "stream",
     "text": [
      "Recall: 0.8745762711864407 \n",
      "Precision: 0.05386221294363257 \n",
      "F-score: 0.21608040201005024\n",
      "Recall: 0.8484848484848485 \n",
      "Precision: 0.05286343612334802 \n",
      "F-score: 0.2115869017632242\n",
      "Recall: 0.9081632653061225 \n",
      "Precision: 0.056400506970849175 \n",
      "F-score: 0.2258883248730964\n"
     ]
    }
   ],
   "source": [
    "qda = QuadraticDiscriminantAnalysis()\n",
    "qda.fit(train.drop(columns=['Class']), train['Class'])\n",
    "\n",
    "print_data(train, qda)\n",
    "print_data(valid, qda)\n",
    "print_data(test, qda)"
   ]
  },
  {
   "cell_type": "code",
   "execution_count": 32,
   "metadata": {},
   "outputs": [
    {
     "name": "stdout",
     "output_type": "stream",
     "text": [
      "Recall: 0.8745762711864407 \n",
      "Precision: 0.058265582655826556 \n",
      "F-score: 0.10925259369045097\n",
      "Recall: 0.9081632653061225 \n",
      "Precision: 0.06070941336971351 \n",
      "F-score: 0.11381074168797956\n",
      "Recall: 0.8484848484848485 \n",
      "Precision: 0.05718175629680054 \n",
      "F-score: 0.10714285714285714\n"
     ]
    }
   ],
   "source": [
    "qda_bagging = BaggingClassifier(QuadraticDiscriminantAnalysis(), n_estimators=11)\n",
    "qda_bagging.fit(train.drop(columns=['Class']), train['Class'])\n",
    "\n",
    "print_data(train, qda_bagging)\n",
    "print_data(valid, qda_bagging)\n",
    "print_data(test, qda_bagging)"
   ]
  },
  {
   "cell_type": "code",
   "execution_count": 40,
   "metadata": {},
   "outputs": [
    {
     "name": "stdout",
     "output_type": "stream",
     "text": [
      "Recall: 0.7559322033898305 \n",
      "Precision: 0.8415094339622642 \n",
      "F-score: 0.7964285714285715\n",
      "Recall: 0.8367346938775511 \n",
      "Precision: 0.8631578947368421 \n",
      "F-score: 0.8497409326424872\n",
      "Recall: 0.797979797979798 \n",
      "Precision: 0.8494623655913979 \n",
      "F-score: 0.8229166666666666\n"
     ]
    }
   ],
   "source": [
    "classifier = [('lda', lda), ('qda', qda), ('log', logistic)]\n",
    "vote = VotingClassifier(classifier)\n",
    "\n",
    "vote.fit(train.drop(columns=['Class']), train['Class'])\n",
    "\n",
    "print_data(train, vote)\n",
    "print_data(valid, vote)\n",
    "print_data(test, vote)"
   ]
  },
  {
   "cell_type": "code",
   "execution_count": 27,
   "metadata": {},
   "outputs": [
    {
     "name": "stderr",
     "output_type": "stream",
     "text": [
      "/Users/jiazeyu/anaconda3/envs/ml/lib/python3.6/site-packages/sklearn/ensemble/forest.py:246: FutureWarning: The default value of n_estimators will change from 10 in version 0.20 to 100 in 0.22.\n",
      "  \"10 in version 0.20 to 100 in 0.22.\", FutureWarning)\n"
     ]
    },
    {
     "name": "stdout",
     "output_type": "stream",
     "text": [
      "Recall: 0.9661016949152542 \n",
      "Precision: 0.9965034965034965 \n",
      "F-score: 0.9720327421555253\n",
      "Recall: 0.8061224489795918 \n",
      "Precision: 0.9186046511627907 \n",
      "F-score: 0.8263598326359833\n",
      "Recall: 0.7777777777777778 \n",
      "Precision: 0.927710843373494 \n",
      "F-score: 0.8037578288100209\n"
     ]
    }
   ],
   "source": [
    "rfc = RandomForestClassifier()\n",
    "rfc.fit(train.drop(columns=['Class']), train['Class'])\n",
    "\n",
    "print_data(train, rfc)\n",
    "print_data(valid, rfc)\n",
    "print_data(test, rfc)"
   ]
  },
  {
   "cell_type": "code",
   "execution_count": 12,
   "metadata": {},
   "outputs": [
    {
     "name": "stdout",
     "output_type": "stream",
     "text": [
      "Recall: 0.7272727272727273 \n",
      "Precision: 0.029715229054890633 \n",
      "F-score: 0.12770485987938987\n"
     ]
    },
    {
     "data": {
      "text/plain": [
       "array([[54512,  2351],\n",
       "       [   27,    72]])"
      ]
     },
     "execution_count": 12,
     "metadata": {},
     "output_type": "execute_result"
    }
   ],
   "source": [
    "adb = AdaBoostClassifier(GaussianNB(),\n",
    "                         n_estimators=50)\n",
    "adb.fit(train.drop(columns=['Class']), train['Class'])\n",
    "\n",
    "print_data(train, adb)\n",
    "print_data(valid, adb)\n",
    "print_data(train, adb)"
   ]
  },
  {
   "cell_type": "code",
   "execution_count": 8,
   "metadata": {},
   "outputs": [
    {
     "name": "stdout",
     "output_type": "stream",
     "text": [
      "Recall: 0.8080808080808081 \n",
      "Precision: 0.851063829787234 \n",
      "F-score: 0.8163265306122448\n"
     ]
    },
    {
     "data": {
      "text/plain": [
       "array([[56849,    14],\n",
       "       [   19,    80]])"
      ]
     },
     "execution_count": 8,
     "metadata": {},
     "output_type": "execute_result"
    }
   ],
   "source": [
    "nn = MLPClassifier(solver='lbfgs', alpha=1e-4, \n",
    "                   hidden_layer_sizes=(5, 4, 3, 3), random_state=1)\n",
    "nn.fit(train.drop(columns=['Class']), train['Class'])\n",
    "\n",
    "predict = nn.predict(test.drop(columns=['Class']))\n",
    "\n",
    "x = test\n",
    "recall = recall_score(y_true=x['Class'].values, y_pred=predict)\n",
    "precision = precision_score(y_true=x['Class'].values, y_pred=predict)\n",
    "fbeta = fbeta_score(y_true=x['Class'].values, y_pred=predict, beta=2)\n",
    "\n",
    "print('Recall:', recall, '\\nPrecision:', precision, '\\nF-score:', fbeta)\n",
    "\n",
    "cnf_matrix = confusion_matrix(y_true=x['Class'].values, y_pred=predict)\n",
    "cnf_matrix"
   ]
  },
  {
   "cell_type": "code",
   "execution_count": 11,
   "metadata": {},
   "outputs": [
    {
     "name": "stdout",
     "output_type": "stream",
     "text": [
      "Recall: 0.7796610169491526 \n",
      "Precision: 0.8646616541353384 \n",
      "F-score: 0.7952973720608575\n"
     ]
    },
    {
     "data": {
      "text/plain": [
       "array([[170553,     36],\n",
       "       [    65,    230]])"
      ]
     },
     "execution_count": 11,
     "metadata": {},
     "output_type": "execute_result"
    }
   ],
   "source": [
    "predict = nn.predict(train.drop(columns=['Class']))\n",
    "\n",
    "x = train\n",
    "recall = recall_score(y_true=x['Class'].values, y_pred=predict)\n",
    "precision = precision_score(y_true=x['Class'].values, y_pred=predict)\n",
    "fbeta = fbeta_score(y_true=x['Class'].values, y_pred=predict, beta=2)\n",
    "\n",
    "print('Recall:', recall, '\\nPrecision:', precision, '\\nF-score:', fbeta)\n",
    "\n",
    "cnf_matrix = confusion_matrix(y_true=x['Class'].values, y_pred=predict)\n",
    "cnf_matrix"
   ]
  },
  {
   "cell_type": "code",
   "execution_count": 43,
   "metadata": {},
   "outputs": [
    {
     "name": "stdout",
     "output_type": "stream",
     "text": [
      "Recall: 0.7796610169491526 \n",
      "Precision: 0.8646616541353384 \n",
      "F-score: 0.8199643493761142\n"
     ]
    },
    {
     "data": {
      "text/plain": [
       "array([[170553,     36],\n",
       "       [    65,    230]])"
      ]
     },
     "execution_count": 43,
     "metadata": {},
     "output_type": "execute_result"
    }
   ],
   "source": [
    "predict = nn.predict(train.drop(columns=['Class']))\n",
    "\n",
    "x = train\n",
    "recall = recall_score(y_true=x['Class'].values, y_pred=predict)\n",
    "precision = precision_score(y_true=x['Class'].values, y_pred=predict)\n",
    "fbeta = fbeta_score(y_true=x['Class'].values, y_pred=predict, beta=1)\n",
    "\n",
    "print('Recall:', recall, '\\nPrecision:', precision, '\\nF-score:', fbeta)\n",
    "\n",
    "cnf_matrix = confusion_matrix(y_true=x['Class'].values, y_pred=predict)\n",
    "cnf_matrix"
   ]
  },
  {
   "cell_type": "code",
   "execution_count": 44,
   "metadata": {},
   "outputs": [
    {
     "name": "stdout",
     "output_type": "stream",
     "text": [
      "Recall: 0.8080808080808081 \n",
      "Precision: 0.9411764705882353 \n",
      "F-score: 0.8695652173913043\n"
     ]
    },
    {
     "data": {
      "text/plain": [
       "array([[56858,     5],\n",
       "       [   19,    80]])"
      ]
     },
     "execution_count": 44,
     "metadata": {},
     "output_type": "execute_result"
    }
   ],
   "source": [
    "xg = XGBClassifier(max_depth=4, reg_lambda=0.5)\n",
    "xg.fit(train.drop(columns=['Class']), train['Class'])\n",
    "\n",
    "predict = xg.predict(test.drop(columns=['Class']))\n",
    "\n",
    "x = test\n",
    "recall = recall_score(y_true=x['Class'].values, y_pred=predict)\n",
    "precision = precision_score(y_true=x['Class'].values, y_pred=predict)\n",
    "fbeta = fbeta_score(y_true=x['Class'].values, y_pred=predict, beta=1)\n",
    "\n",
    "print('Recall:', recall, '\\nPrecision:', precision, '\\nF-score:', fbeta)\n",
    "\n",
    "cnf_matrix = confusion_matrix(y_true=x['Class'].values, y_pred=predict)\n",
    "cnf_matrix"
   ]
  },
  {
   "cell_type": "code",
   "execution_count": 47,
   "metadata": {},
   "outputs": [
    {
     "name": "stdout",
     "output_type": "stream",
     "text": [
      "Recall: 0.8745762711864407 \n",
      "Precision: 0.9923076923076923 \n",
      "F-score: 0.9297297297297297\n"
     ]
    },
    {
     "data": {
      "text/plain": [
       "array([[170587,      2],\n",
       "       [    37,    258]])"
      ]
     },
     "execution_count": 47,
     "metadata": {},
     "output_type": "execute_result"
    }
   ],
   "source": [
    "x = train\n",
    "\n",
    "predict = xg.predict(x.drop(columns=['Class']))\n",
    "recall = recall_score(y_true=x['Class'].values, y_pred=predict)\n",
    "precision = precision_score(y_true=x['Class'].values, y_pred=predict)\n",
    "fbeta = fbeta_score(y_true=x['Class'].values, y_pred=predict, beta=1)\n",
    "\n",
    "print('Recall:', recall, '\\nPrecision:', precision, '\\nF-score:', fbeta)\n",
    "\n",
    "cnf_matrix = confusion_matrix(y_true=x['Class'].values, y_pred=predict)\n",
    "cnf_matrix"
   ]
  },
  {
   "cell_type": "code",
   "execution_count": 69,
   "metadata": {},
   "outputs": [
    {
     "data": {
      "text/plain": [
       "GaussianMixture(covariance_type='full', init_params='kmeans', max_iter=500,\n",
       "        means_init=None, n_components=3, n_init=5, precisions_init=None,\n",
       "        random_state=42, reg_covar=1e-06, tol=1e-05, verbose=0,\n",
       "        verbose_interval=10, warm_start=False, weights_init=None)"
      ]
     },
     "execution_count": 69,
     "metadata": {},
     "output_type": "execute_result"
    }
   ],
   "source": [
    "gmm_normal = GaussianMixture(n_components=3, n_init=5, max_iter=500, random_state=42, tol=1e-6)\n",
    "gmm_normal.fit(train_normal.drop(columns=['Class']))\n",
    "\n",
    "gmm_anomaly = GaussianMixture(n_components=3, n_init=5, max_iter=500, random_state=42, tol=1e-5)\n",
    "gmm_anomaly.fit(train_anomaly.drop(columns=['Class']))"
   ]
  },
  {
   "cell_type": "code",
   "execution_count": 132,
   "metadata": {
    "collapsed": true
   },
   "outputs": [],
   "source": [
    "f_g_valid = gmm_normal.score_samples(valid.drop(columns=['Class'])) \\\n",
    " - gmm_anomaly.score_samples(valid.drop(columns=['Class']))"
   ]
  },
  {
   "cell_type": "code",
   "execution_count": 203,
   "metadata": {},
   "outputs": [
    {
     "name": "stdout",
     "output_type": "stream",
     "text": [
      "Recall: 0.8080808080808081 \n",
      "Precision: 0.8247422680412371 \n",
      "F-score: 0.8163265306122448\n"
     ]
    },
    {
     "data": {
      "text/plain": [
       "array([[56846,    17],\n",
       "       [   19,    80]])"
      ]
     },
     "execution_count": 203,
     "metadata": {},
     "output_type": "execute_result"
    }
   ],
   "source": [
    "gmm_tree = DecisionTreeClassifier(criterion='entropy', max_leaf_nodes=3)\n",
    "gmm_tree.fit(f_g_valid.reshape(-1, 1), valid['Class'])\n",
    "\n",
    "print_data"
   ]
  },
  {
   "cell_type": "code",
   "execution_count": 26,
   "metadata": {},
   "outputs": [
    {
     "name": "stdout",
     "output_type": "stream",
     "text": [
      "Test Recall: 0.7474747474747475 \n",
      "Test Precision: 0.9866666666666667 \n",
      "Test F-score: 0.8505747126436782\n"
     ]
    }
   ],
   "source": [
    "knn = KNeighborsClassifier(n_neighbors=1)\n",
    "knn.fit(train.drop(columns=['Class']), train['Class'])\n",
    "\n",
    "print_data(knn)"
   ]
  },
  {
   "cell_type": "code",
   "execution_count": null,
   "metadata": {
    "collapsed": true
   },
   "outputs": [],
   "source": []
  }
 ],
 "metadata": {
  "kernelspec": {
   "display_name": "Python ml",
   "language": "python",
   "name": "ml"
  },
  "language_info": {
   "codemirror_mode": {
    "name": "ipython",
    "version": 3
   },
   "file_extension": ".py",
   "mimetype": "text/x-python",
   "name": "python",
   "nbconvert_exporter": "python",
   "pygments_lexer": "ipython3",
   "version": "3.6.7"
  }
 },
 "nbformat": 4,
 "nbformat_minor": 2
}
