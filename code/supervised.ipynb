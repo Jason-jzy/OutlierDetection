{
 "cells": [
  {
   "cell_type": "code",
   "execution_count": 68,
   "metadata": {
    "collapsed": true
   },
   "outputs": [],
   "source": [
    "%matplotlib notebook\n",
    "import numpy as np\n",
    "import matplotlib.pyplot as plt\n",
    "import pandas as pd\n",
    "from sklearn.model_selection import train_test_split\n",
    "from sklearn.metrics import fbeta_score, precision_score, recall_score, confusion_matrix\n",
    "from sklearn.cluster import KMeans\n",
    "from sklearn.linear_model import LogisticRegression\n",
    "from sklearn.naive_bayes import GaussianNB\n",
    "from sklearn.tree import DecisionTreeClassifier\n",
    "from sklearn.svm import SVC\n",
    "from sklearn.discriminant_analysis import LinearDiscriminantAnalysis\n",
    "from sklearn.discriminant_analysis import QuadraticDiscriminantAnalysis\n",
    "from sklearn.ensemble import RandomForestClassifier\n",
    "from sklearn.ensemble import AdaBoostClassifier\n",
    "from sklearn.neural_network import MLPClassifier\n",
    "from xgboost import XGBClassifier\n",
    "from sklearn.mixture import GaussianMixture"
   ]
  },
  {
   "cell_type": "code",
   "execution_count": 4,
   "metadata": {
    "collapsed": true
   },
   "outputs": [],
   "source": [
    "data = pd.read_csv('../data/creditcard.csv')\n",
    "x = np.array(data.loc[1:len(data)-1, 'Time'])\n",
    "y = np.array(data.loc[0:len(data)-2, 'Time'])\n",
    "data.loc[1:, 'Time'] = x-y\n",
    "normal = data[data['Class']==0]\n",
    "anomaly = data[data['Class']==1]"
   ]
  },
  {
   "cell_type": "code",
   "execution_count": 5,
   "metadata": {},
   "outputs": [
    {
     "name": "stdout",
     "output_type": "stream",
     "text": [
      "Normal Train: (170589, 31) Normal Valid: (56863, 31) Normal Test: (56863, 31)\n",
      "Anomaly Train: (295, 31) Anomaly Valid: (98, 31) Anomaly Test: (99, 31)\n"
     ]
    }
   ],
   "source": [
    "train_normal, test_normal = train_test_split(normal, test_size=0.4, random_state=42)\n",
    "valid_normal, test_normal = train_test_split(test_normal, test_size=0.5, random_state=42)\n",
    "train_anomaly, test_anomaly = train_test_split(anomaly, test_size=0.4, random_state=42)\n",
    "valid_anomaly, test_anomaly = train_test_split(test_anomaly, test_size=0.5, random_state=42)\n",
    "\n",
    "for x in [train_normal, valid_normal, test_normal, train_anomaly, valid_anomaly, test_anomaly]:\n",
    "    x.reset_index(drop=True, inplace=True)\n",
    "\n",
    "print('Normal Train:', train_normal.shape, \n",
    "      'Normal Valid:', valid_normal.shape, \n",
    "      'Normal Test:', test_normal.shape)\n",
    "print('Anomaly Train:', train_anomaly.shape, \n",
    "      'Anomaly Valid:', valid_anomaly.shape, \n",
    "      'Anomaly Test:', test_anomaly.shape)"
   ]
  },
  {
   "cell_type": "code",
   "execution_count": 6,
   "metadata": {
    "collapsed": true
   },
   "outputs": [],
   "source": [
    "train = train_normal.append(train_anomaly).sample(frac=1, random_state=42).reset_index(drop=True)\n",
    "valid = valid_normal.append(valid_anomaly).sample(frac=1, random_state=42).reset_index(drop=True)\n",
    "test = test_normal.append(test_anomaly).sample(frac=1, random_state=42).reset_index(drop=True)"
   ]
  },
  {
   "cell_type": "code",
   "execution_count": 6,
   "metadata": {},
   "outputs": [
    {
     "name": "stdout",
     "output_type": "stream",
     "text": [
      "Recall: 0.5959595959595959 \n",
      "Precision: 0.8676470588235294 \n",
      "F-score: 0.6357758620689654\n"
     ]
    },
    {
     "data": {
      "text/plain": [
       "array([[56854,     9],\n",
       "       [   40,    59]])"
      ]
     },
     "execution_count": 6,
     "metadata": {},
     "output_type": "execute_result"
    }
   ],
   "source": [
    "logistic = LogisticRegression(random_state=0, solver='newton-cg',\n",
    "                         multi_class='multinomial')\n",
    "logistic.fit(train.drop(columns=['Class']), train['Class'])\n",
    "\n",
    "predict_log = logistic.predict(test.drop(columns=['Class']))\n",
    "\n",
    "x = test\n",
    "recall_log = recall_score(y_true=x['Class'].values, y_pred=predict_log)\n",
    "precision_log = precision_score(y_true=x['Class'].values, y_pred=predict_log)\n",
    "fbeta_log = fbeta_score(y_true=x['Class'].values, y_pred=predict_log, beta=2)\n",
    "\n",
    "print('Recall:', recall_log, '\\nPrecision:', precision_log, '\\nF-score:', fbeta_log)\n",
    "\n",
    "cnf_matrix_log = confusion_matrix(y_true=x['Class'].values, y_pred=predict_log)\n",
    "cnf_matrix_log"
   ]
  },
  {
   "cell_type": "code",
   "execution_count": 7,
   "metadata": {},
   "outputs": [
    {
     "name": "stdout",
     "output_type": "stream",
     "text": [
      "Recall: 0.8282828282828283 \n",
      "Precision: 0.05758426966292135 \n",
      "F-score: 0.22527472527472528\n"
     ]
    },
    {
     "data": {
      "text/plain": [
       "array([[55521,  1342],\n",
       "       [   17,    82]])"
      ]
     },
     "execution_count": 7,
     "metadata": {},
     "output_type": "execute_result"
    }
   ],
   "source": [
    "gnb = GaussianNB()\n",
    "gnb.fit(train.drop(columns=['Class']), train['Class'])\n",
    "\n",
    "predict_gnb = gnb.predict(test.drop(columns=['Class']))\n",
    "\n",
    "x = test\n",
    "recall_gnb = recall_score(y_true=x['Class'].values, y_pred=predict_gnb)\n",
    "precision_gnb = precision_score(y_true=x['Class'].values, y_pred=predict_gnb)\n",
    "fbeta_gnb = fbeta_score(y_true=x['Class'].values, y_pred=predict_gnb, beta=2)\n",
    "\n",
    "print('Recall:', recall_gnb, '\\nPrecision:', precision_gnb, '\\nF-score:', fbeta_gnb)\n",
    "\n",
    "cnf_matrix_gnb = confusion_matrix(y_true=x['Class'].values, y_pred=predict_gnb)\n",
    "cnf_matrix_gnb"
   ]
  },
  {
   "cell_type": "code",
   "execution_count": 219,
   "metadata": {},
   "outputs": [
    {
     "name": "stdout",
     "output_type": "stream",
     "text": [
      "Recall: 0.8080808080808081 \n",
      "Precision: 0.8695652173913043 \n",
      "F-score: 0.837696335078534\n"
     ]
    },
    {
     "data": {
      "text/plain": [
       "array([[56851,    12],\n",
       "       [   19,    80]])"
      ]
     },
     "execution_count": 219,
     "metadata": {},
     "output_type": "execute_result"
    }
   ],
   "source": [
    "tree = DecisionTreeClassifier(criterion='entropy', max_depth=5)\n",
    "tree.fit(train.drop(columns=['Class']), train['Class'])\n",
    "\n",
    "x = test\n",
    "\n",
    "predict_tree = tree.predict(x.drop(columns=['Class']))\n",
    "recall_tree = recall_score(y_true=x['Class'].values, y_pred=predict_tree)\n",
    "precision_tree = precision_score(y_true=x['Class'].values, y_pred=predict_tree)\n",
    "fbeta_tree = fbeta_score(y_true=x['Class'].values, y_pred=predict_tree, beta=1)\n",
    "\n",
    "print('Recall:', recall_tree, '\\nPrecision:', precision_tree, '\\nF-score:', fbeta_tree)\n",
    "\n",
    "cnf_matrix_tree = confusion_matrix(y_true=x['Class'].values, y_pred=predict_tree)\n",
    "cnf_matrix_tree"
   ]
  },
  {
   "cell_type": "code",
   "execution_count": 217,
   "metadata": {},
   "outputs": [
    {
     "name": "stdout",
     "output_type": "stream",
     "text": [
      "Recall: 0.826530612244898 \n",
      "Precision: 0.9101123595505618 \n",
      "F-score: 0.8419958419958419\n"
     ]
    },
    {
     "data": {
      "text/plain": [
       "array([[56855,     8],\n",
       "       [   17,    81]])"
      ]
     },
     "execution_count": 217,
     "metadata": {},
     "output_type": "execute_result"
    }
   ],
   "source": [
    "x = valid\n",
    "\n",
    "predict_tree = tree.predict(x.drop(columns=['Class']))\n",
    "recall_tree = recall_score(y_true=x['Class'].values, y_pred=predict_tree)\n",
    "precision_tree = precision_score(y_true=x['Class'].values, y_pred=predict_tree)\n",
    "fbeta_tree = fbeta_score(y_true=x['Class'].values, y_pred=predict_tree, beta=2)\n",
    "\n",
    "print('Recall:', recall_tree, '\\nPrecision:', precision_tree, '\\nF-score:', fbeta_tree)\n",
    "\n",
    "cnf_matrix_tree = confusion_matrix(y_true=x['Class'].values, y_pred=predict_tree)\n",
    "cnf_matrix_tree"
   ]
  },
  {
   "cell_type": "code",
   "execution_count": 13,
   "metadata": {},
   "outputs": [
    {
     "name": "stdout",
     "output_type": "stream",
     "text": [
      "Recall: 0.5050505050505051 \n",
      "Precision: 0.9259259259259259 \n",
      "F-score: 0.5555555555555557\n"
     ]
    },
    {
     "data": {
      "text/plain": [
       "array([[56859,     4],\n",
       "       [   49,    50]])"
      ]
     },
     "execution_count": 13,
     "metadata": {},
     "output_type": "execute_result"
    }
   ],
   "source": [
    "SVM = SVC(kernel='linear',C=0.4)\n",
    "SVM.fit(train.iloc[0:20000].drop(columns=['Class']), train.iloc[0:20000]['Class'])\n",
    "\n",
    "predict = SVM.predict(test.drop(columns=['Class']))\n",
    "\n",
    "x = test\n",
    "recall = recall_score(y_true=x['Class'].values, y_pred=predict)\n",
    "precision = precision_score(y_true=x['Class'].values, y_pred=predict)\n",
    "fbeta = fbeta_score(y_true=x['Class'].values, y_pred=predict, beta=2)\n",
    "\n",
    "print('Recall:', recall, '\\nPrecision:', precision, '\\nF-score:', fbeta)\n",
    "\n",
    "cnf_matrix = confusion_matrix(y_true=x['Class'].values, y_pred=predict)\n",
    "cnf_matrix"
   ]
  },
  {
   "cell_type": "code",
   "execution_count": 9,
   "metadata": {},
   "outputs": [
    {
     "name": "stdout",
     "output_type": "stream",
     "text": [
      "Recall: 0.7777777777777778 \n",
      "Precision: 0.875 \n",
      "F-score: 0.7954545454545454\n"
     ]
    },
    {
     "data": {
      "text/plain": [
       "array([[56852,    11],\n",
       "       [   22,    77]])"
      ]
     },
     "execution_count": 9,
     "metadata": {},
     "output_type": "execute_result"
    }
   ],
   "source": [
    "lda = LinearDiscriminantAnalysis()\n",
    "lda.fit(train.drop(columns=['Class']), train['Class'])\n",
    "\n",
    "predict = lda.predict(test.drop(columns=['Class']))\n",
    "\n",
    "x = test\n",
    "recall = recall_score(y_true=x['Class'].values, y_pred=predict)\n",
    "precision = precision_score(y_true=x['Class'].values, y_pred=predict)\n",
    "fbeta = fbeta_score(y_true=x['Class'].values, y_pred=predict, beta=2)\n",
    "\n",
    "print('Recall:', recall, '\\nPrecision:', precision, '\\nF-score:', fbeta)\n",
    "\n",
    "cnf_matrix = confusion_matrix(y_true=x['Class'].values, y_pred=predict)\n",
    "cnf_matrix"
   ]
  },
  {
   "cell_type": "code",
   "execution_count": 10,
   "metadata": {},
   "outputs": [
    {
     "name": "stdout",
     "output_type": "stream",
     "text": [
      "Recall: 0.8484848484848485 \n",
      "Precision: 0.05286343612334802 \n",
      "F-score: 0.2115869017632242\n"
     ]
    },
    {
     "data": {
      "text/plain": [
       "array([[55358,  1505],\n",
       "       [   15,    84]])"
      ]
     },
     "execution_count": 10,
     "metadata": {},
     "output_type": "execute_result"
    }
   ],
   "source": [
    "qda = QuadraticDiscriminantAnalysis()\n",
    "qda.fit(train.drop(columns=['Class']), train['Class'])\n",
    "\n",
    "predict = qda.predict(test.drop(columns=['Class']))\n",
    "\n",
    "x = test\n",
    "recall = recall_score(y_true=x['Class'].values, y_pred=predict)\n",
    "precision = precision_score(y_true=x['Class'].values, y_pred=predict)\n",
    "fbeta = fbeta_score(y_true=x['Class'].values, y_pred=predict, beta=2)\n",
    "\n",
    "print('Recall:', recall, '\\nPrecision:', precision, '\\nF-score:', fbeta)\n",
    "\n",
    "cnf_matrix = confusion_matrix(y_true=x['Class'].values, y_pred=predict)\n",
    "cnf_matrix"
   ]
  },
  {
   "cell_type": "code",
   "execution_count": 11,
   "metadata": {},
   "outputs": [
    {
     "name": "stderr",
     "output_type": "stream",
     "text": [
      "/Users/jiazeyu/anaconda3/envs/ml/lib/python3.6/site-packages/sklearn/ensemble/forest.py:246: FutureWarning: The default value of n_estimators will change from 10 in version 0.20 to 100 in 0.22.\n",
      "  \"10 in version 0.20 to 100 in 0.22.\", FutureWarning)\n"
     ]
    },
    {
     "name": "stdout",
     "output_type": "stream",
     "text": [
      "Recall: 0.7474747474747475 \n",
      "Precision: 0.925 \n",
      "F-score: 0.7773109243697479\n"
     ]
    },
    {
     "data": {
      "text/plain": [
       "array([[56857,     6],\n",
       "       [   25,    74]])"
      ]
     },
     "execution_count": 11,
     "metadata": {},
     "output_type": "execute_result"
    }
   ],
   "source": [
    "rfc = RandomForestClassifier()\n",
    "rfc.fit(train.drop(columns=['Class']), train['Class'])\n",
    "\n",
    "predict = rfc.predict(test.drop(columns=['Class']))\n",
    "\n",
    "x = test\n",
    "recall = recall_score(y_true=x['Class'].values, y_pred=predict)\n",
    "precision = precision_score(y_true=x['Class'].values, y_pred=predict)\n",
    "fbeta = fbeta_score(y_true=x['Class'].values, y_pred=predict, beta=2)\n",
    "\n",
    "print('Recall:', recall, '\\nPrecision:', precision, '\\nF-score:', fbeta)\n",
    "\n",
    "cnf_matrix = confusion_matrix(y_true=x['Class'].values, y_pred=predict)\n",
    "cnf_matrix"
   ]
  },
  {
   "cell_type": "code",
   "execution_count": 12,
   "metadata": {},
   "outputs": [
    {
     "name": "stdout",
     "output_type": "stream",
     "text": [
      "Recall: 0.7272727272727273 \n",
      "Precision: 0.029715229054890633 \n",
      "F-score: 0.12770485987938987\n"
     ]
    },
    {
     "data": {
      "text/plain": [
       "array([[54512,  2351],\n",
       "       [   27,    72]])"
      ]
     },
     "execution_count": 12,
     "metadata": {},
     "output_type": "execute_result"
    }
   ],
   "source": [
    "adb = AdaBoostClassifier(GaussianNB(),\n",
    "                         n_estimators=50)\n",
    "adb.fit(train.drop(columns=['Class']), train['Class'])\n",
    "\n",
    "predict = adb.predict(test.drop(columns=['Class']))\n",
    "\n",
    "x = test\n",
    "recall = recall_score(y_true=x['Class'].values, y_pred=predict)\n",
    "precision = precision_score(y_true=x['Class'].values, y_pred=predict)\n",
    "fbeta = fbeta_score(y_true=x['Class'].values, y_pred=predict, beta=2)\n",
    "\n",
    "print('Recall:', recall, '\\nPrecision:', precision, '\\nF-score:', fbeta)\n",
    "\n",
    "cnf_matrix = confusion_matrix(y_true=x['Class'].values, y_pred=predict)\n",
    "cnf_matrix"
   ]
  },
  {
   "cell_type": "code",
   "execution_count": 65,
   "metadata": {},
   "outputs": [
    {
     "name": "stdout",
     "output_type": "stream",
     "text": [
      "Recall: 0.7676767676767676 \n",
      "Precision: 0.8085106382978723 \n",
      "F-score: 0.7755102040816325\n"
     ]
    },
    {
     "data": {
      "text/plain": [
       "array([[56845,    18],\n",
       "       [   23,    76]])"
      ]
     },
     "execution_count": 65,
     "metadata": {},
     "output_type": "execute_result"
    }
   ],
   "source": [
    "nn = MLPClassifier(solver='lbfgs', alpha=1e-4, \n",
    "                   hidden_layer_sizes=(5, 4, 3, 3), random_state=1)\n",
    "nn.fit(train.drop(columns=['Class']), train['Class'])\n",
    "\n",
    "predict = nn.predict(test.drop(columns=['Class']))\n",
    "\n",
    "x = test\n",
    "recall = recall_score(y_true=x['Class'].values, y_pred=predict)\n",
    "precision = precision_score(y_true=x['Class'].values, y_pred=predict)\n",
    "fbeta = fbeta_score(y_true=x['Class'].values, y_pred=predict, beta=2)\n",
    "\n",
    "print('Recall:', recall, '\\nPrecision:', precision, '\\nF-score:', fbeta)\n",
    "\n",
    "cnf_matrix = confusion_matrix(y_true=x['Class'].values, y_pred=predict)\n",
    "cnf_matrix"
   ]
  },
  {
   "cell_type": "code",
   "execution_count": 66,
   "metadata": {},
   "outputs": [
    {
     "name": "stdout",
     "output_type": "stream",
     "text": [
      "Recall: 0.7755102040816326 \n",
      "Precision: 0.8539325842696629 \n",
      "F-score: 0.79002079002079\n"
     ]
    },
    {
     "data": {
      "text/plain": [
       "array([[56850,    13],\n",
       "       [   22,    76]])"
      ]
     },
     "execution_count": 66,
     "metadata": {},
     "output_type": "execute_result"
    }
   ],
   "source": [
    "predict = nn.predict(valid.drop(columns=['Class']))\n",
    "\n",
    "x = valid\n",
    "recall = recall_score(y_true=x['Class'].values, y_pred=predict)\n",
    "precision = precision_score(y_true=x['Class'].values, y_pred=predict)\n",
    "fbeta = fbeta_score(y_true=x['Class'].values, y_pred=predict, beta=2)\n",
    "\n",
    "print('Recall:', recall, '\\nPrecision:', precision, '\\nF-score:', fbeta)\n",
    "\n",
    "cnf_matrix = confusion_matrix(y_true=x['Class'].values, y_pred=predict)\n",
    "cnf_matrix"
   ]
  },
  {
   "cell_type": "code",
   "execution_count": 67,
   "metadata": {},
   "outputs": [
    {
     "name": "stdout",
     "output_type": "stream",
     "text": [
      "Recall: 0.7254237288135593 \n",
      "Precision: 0.8136882129277566 \n",
      "F-score: 0.7415107415107415\n"
     ]
    },
    {
     "data": {
      "text/plain": [
       "array([[170540,     49],\n",
       "       [    81,    214]])"
      ]
     },
     "execution_count": 67,
     "metadata": {},
     "output_type": "execute_result"
    }
   ],
   "source": [
    "predict = nn.predict(train.drop(columns=['Class']))\n",
    "\n",
    "x = train\n",
    "recall = recall_score(y_true=x['Class'].values, y_pred=predict)\n",
    "precision = precision_score(y_true=x['Class'].values, y_pred=predict)\n",
    "fbeta = fbeta_score(y_true=x['Class'].values, y_pred=predict, beta=2)\n",
    "\n",
    "print('Recall:', recall, '\\nPrecision:', precision, '\\nF-score:', fbeta)\n",
    "\n",
    "cnf_matrix = confusion_matrix(y_true=x['Class'].values, y_pred=predict)\n",
    "cnf_matrix"
   ]
  },
  {
   "cell_type": "code",
   "execution_count": null,
   "metadata": {
    "collapsed": true
   },
   "outputs": [],
   "source": [
    "xg = XGBClassifier(max_depth=4, reg_lambda=0.5)\n",
    "xg.fit(train.drop(columns=['Class']), train['Class'])\n",
    "\n",
    "predict = xg.predict(test.drop(columns=['Class']))\n",
    "\n",
    "x = test\n",
    "recall = recall_score(y_true=x['Class'].values, y_pred=predict)\n",
    "precision = precision_score(y_true=x['Class'].values, y_pred=predict)\n",
    "fbeta = fbeta_score(y_true=x['Class'].values, y_pred=predict, beta=2)\n",
    "\n",
    "print('Recall:', recall, '\\nPrecision:', precision, '\\nF-score:', fbeta)\n",
    "\n",
    "cnf_matrix = confusion_matrix(y_true=x['Class'].values, y_pred=predict)\n",
    "cnf_matrix"
   ]
  },
  {
   "cell_type": "code",
   "execution_count": 42,
   "metadata": {},
   "outputs": [
    {
     "name": "stdout",
     "output_type": "stream",
     "text": [
      "Recall: 0.8406779661016949 \n",
      "Precision: 0.9880478087649402 \n",
      "F-score: 0.8665269042627531\n"
     ]
    },
    {
     "data": {
      "text/plain": [
       "array([[170586,      3],\n",
       "       [    47,    248]])"
      ]
     },
     "execution_count": 42,
     "metadata": {},
     "output_type": "execute_result"
    }
   ],
   "source": [
    "predict = xg.predict(train.drop(columns=['Class']))\n",
    "\n",
    "x = train\n",
    "recall = recall_score(y_true=x['Class'].values, y_pred=predict)\n",
    "precision = precision_score(y_true=x['Class'].values, y_pred=predict)\n",
    "fbeta = fbeta_score(y_true=x['Class'].values, y_pred=predict, beta=2)\n",
    "\n",
    "print('Recall:', recall, '\\nPrecision:', precision, '\\nF-score:', fbeta)\n",
    "\n",
    "cnf_matrix = confusion_matrix(y_true=x['Class'].values, y_pred=predict)\n",
    "cnf_matrix"
   ]
  },
  {
   "cell_type": "code",
   "execution_count": 69,
   "metadata": {},
   "outputs": [
    {
     "data": {
      "text/plain": [
       "GaussianMixture(covariance_type='full', init_params='kmeans', max_iter=500,\n",
       "        means_init=None, n_components=3, n_init=5, precisions_init=None,\n",
       "        random_state=42, reg_covar=1e-06, tol=1e-05, verbose=0,\n",
       "        verbose_interval=10, warm_start=False, weights_init=None)"
      ]
     },
     "execution_count": 69,
     "metadata": {},
     "output_type": "execute_result"
    }
   ],
   "source": [
    "gmm_normal = GaussianMixture(n_components=3, n_init=5, max_iter=500, random_state=42, tol=1e-6)\n",
    "gmm_normal.fit(train_normal.drop(columns=['Class']))\n",
    "\n",
    "gmm_anomaly = GaussianMixture(n_components=3, n_init=5, max_iter=500, random_state=42, tol=1e-5)\n",
    "gmm_anomaly.fit(train_anomaly.drop(columns=['Class']))"
   ]
  },
  {
   "cell_type": "code",
   "execution_count": 132,
   "metadata": {},
   "outputs": [],
   "source": [
    "f_g_valid = gmm_normal.score_samples(valid.drop(columns=['Class'])) \\\n",
    " - gmm_anomaly.score_samples(valid.drop(columns=['Class']))"
   ]
  },
  {
   "cell_type": "code",
   "execution_count": 203,
   "metadata": {},
   "outputs": [
    {
     "name": "stdout",
     "output_type": "stream",
     "text": [
      "Recall: 0.8080808080808081 \n",
      "Precision: 0.8247422680412371 \n",
      "F-score: 0.8163265306122448\n"
     ]
    },
    {
     "data": {
      "text/plain": [
       "array([[56846,    17],\n",
       "       [   19,    80]])"
      ]
     },
     "execution_count": 203,
     "metadata": {},
     "output_type": "execute_result"
    }
   ],
   "source": [
    "gmm_tree = DecisionTreeClassifier(criterion='entropy', max_leaf_nodes=3)\n",
    "gmm_tree.fit(f_g_valid.reshape(-1, 1), valid['Class'])\n",
    "\n",
    "x = test\n",
    "f_g_test = gmm_normal.score_samples(x.drop(columns=['Class'])) \\\n",
    " - gmm_anomaly.score_samples(x.drop(columns=['Class']))\n",
    "    \n",
    "predict_gmm_tree = gmm_tree.predict(f_g_test.reshape(-1, 1))\n",
    "    \n",
    "recall_gmm_tree = recall_score(y_true=x['Class'].values, y_pred=predict_gmm_tree)\n",
    "precision_gmm_tree = precision_score(y_true=x['Class'].values, y_pred=predict_gmm_tree)\n",
    "fbeta_gmm_tree = fbeta_score(y_true=x['Class'].values, y_pred=predict_gmm_tree, beta=1)\n",
    "\n",
    "print('Recall:', recall_gmm_tree, \n",
    "      '\\nPrecision:', precision_gmm_tree, \n",
    "      '\\nF-score:', fbeta_gmm_tree)\n",
    "\n",
    "cnf_matrix_gmm_tree = confusion_matrix(y_true=x['Class'].values, y_pred=predict_gmm_tree)\n",
    "cnf_matrix_gmm_tree"
   ]
  },
  {
   "cell_type": "code",
   "execution_count": null,
   "metadata": {
    "collapsed": true
   },
   "outputs": [],
   "source": []
  },
  {
   "cell_type": "code",
   "execution_count": null,
   "metadata": {
    "collapsed": true
   },
   "outputs": [],
   "source": []
  }
 ],
 "metadata": {
  "kernelspec": {
   "display_name": "Python ml",
   "language": "python",
   "name": "ml"
  },
  "language_info": {
   "codemirror_mode": {
    "name": "ipython",
    "version": 3
   },
   "file_extension": ".py",
   "mimetype": "text/x-python",
   "name": "python",
   "nbconvert_exporter": "python",
   "pygments_lexer": "ipython3",
   "version": "3.6.7"
  }
 },
 "nbformat": 4,
 "nbformat_minor": 2
}
