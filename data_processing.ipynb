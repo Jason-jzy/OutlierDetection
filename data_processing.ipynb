{
 "cells": [
  {
   "cell_type": "code",
   "execution_count": 1,
   "metadata": {
    "collapsed": true
   },
   "outputs": [],
   "source": [
    "import numpy as np"
   ]
  },
  {
   "cell_type": "code",
   "execution_count": 3,
   "metadata": {},
   "outputs": [],
   "source": [
    "data = np.load('../1.npy')"
   ]
  },
  {
   "cell_type": "code",
   "execution_count": 62,
   "metadata": {},
   "outputs": [
    {
     "data": {
      "text/plain": [
       "{-0.81970653999999998: 353,\n",
       " -0.75106249999999997: 490,\n",
       " -0.68241847: 616,\n",
       " -0.61377444000000003: 680,\n",
       " -0.54513040999999995: 859,\n",
       " -0.47648637999999999: 705,\n",
       " -0.40784235000000002: 640,\n",
       " -0.33919832: 583,\n",
       " -0.27055428999999998: 353,\n",
       " -0.20191025000000001: 351,\n",
       " -0.13326621999999999: 177,\n",
       " -0.064622191999999995: 80,\n",
       " 0.0040218398000000004: 56,\n",
       " 0.072665871000000007: 7,\n",
       " 0.14130989999999999: 9,\n",
       " 0.20995393000000001: 3,\n",
       " 0.27859795999999998: 2,\n",
       " 0.41588603000000002: 1}"
      ]
     },
     "execution_count": 62,
     "metadata": {},
     "output_type": "execute_result"
    }
   ],
   "source": [
    "unique, counts = np.unique(data[2][:, -100], return_counts=True)\n",
    "dict(zip(unique, counts))"
   ]
  },
  {
   "cell_type": "code",
   "execution_count": null,
   "metadata": {
    "collapsed": true
   },
   "outputs": [],
   "source": []
  }
 ],
 "metadata": {
  "kernelspec": {
   "display_name": "Python optimization",
   "language": "python",
   "name": "optimization"
  },
  "language_info": {
   "codemirror_mode": {
    "name": "ipython",
    "version": 3
   },
   "file_extension": ".py",
   "mimetype": "text/x-python",
   "name": "python",
   "nbconvert_exporter": "python",
   "pygments_lexer": "ipython3",
   "version": "3.6.7"
  }
 },
 "nbformat": 4,
 "nbformat_minor": 2
}
