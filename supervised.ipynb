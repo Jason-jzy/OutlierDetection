{
 "cells": [
  {
   "cell_type": "code",
   "execution_count": 1,
   "metadata": {
    "collapsed": true
   },
   "outputs": [],
   "source": [
    "%matplotlib notebook\n",
    "import numpy as np\n",
    "import matplotlib.pyplot as plt\n",
    "import pandas as pd\n",
    "from sklearn.cluster import KMeans\n",
    "from sklearn.linear_model import LogisticRegression\n",
    "from sklearn.naive_bayes import GaussianNB\n",
    "from sklearn.tree import DecisionTreeClassifier\n",
    "from sklearn.svm import SVC\n",
    "from sklearn.discriminant_analysis import LinearDiscriminantAnalysis\n",
    "from sklearn.discriminant_analysis import QuadraticDiscriminantAnalysis"
   ]
  },
  {
   "cell_type": "code",
   "execution_count": 2,
   "metadata": {
    "collapsed": true
   },
   "outputs": [],
   "source": [
    "data = np.load(file='data/forest_data.npy')\n",
    "label = np.load(file='data/forest_label.npy')"
   ]
  },
  {
   "cell_type": "code",
   "execution_count": 3,
   "metadata": {
    "collapsed": true
   },
   "outputs": [],
   "source": [
    "df = pd.DataFrame(data)\n",
    "outlier_length = int(sum(label))\n",
    "total_length = data.shape[0]\n",
    "feature_size = data.shape[1]\n",
    "# data_outlier = np.zeros([outlier_length, feature_size + 1])\n",
    "data_outlier = np.ones([outlier_length, feature_size + 1])\n",
    "data_normal = np.zeros([total_length - outlier_length, feature_size + 1])\n",
    "# data_normal = np.kron(np.arange(1, 101).reshape(-1, 1), \n",
    "#                       np.ones([int((total_length - outlier_length) / 100), \n",
    "#                                feature_size + 1]))\n",
    "#data_normal = np.append(data_normal, 99 * np.ones([feature_size + 1]).reshape(1, -1), \n",
    "#                        axis=0)\n",
    "data_outlier[:, :-1] = df[label == 1]\n",
    "data_normal[:, :-1] = df[label != 1]"
   ]
  },
  {
   "cell_type": "code",
   "execution_count": 4,
   "metadata": {
    "collapsed": true
   },
   "outputs": [],
   "source": [
    "np.random.shuffle(data_normal)\n",
    "np.random.shuffle(data_outlier)\n",
    "data_train_normal = data_normal[0:226640]\n",
    "data_val_normal = data_normal[226640:254970]\n",
    "data_test_normal = data_normal[254970:]\n",
    "data_train_outlier = data_outlier[0:2200]\n",
    "data_val_outlier = data_outlier[2200:2475]\n",
    "data_test_outlier = data_outlier[2475:]\n",
    "data_train = np.concatenate((data_train_normal, data_train_outlier), axis=0)\n",
    "data_val = np.concatenate((data_val_normal, data_val_outlier), axis=0)\n",
    "data_test = np.concatenate((data_test_normal, data_test_outlier), axis=0)\n",
    "np.random.shuffle(data_train)\n",
    "np.random.shuffle(data_val)\n",
    "np.random.shuffle(data_test)\n",
    "\n",
    "def shuffle():\n",
    "    np.random.shuffle(data_normal)\n",
    "    np.random.shuffle(data_outlier)\n",
    "    data_train_normal = data_normal[0:226640]\n",
    "    data_val_normal = data_normal[226640:254970]\n",
    "    data_test_normal = data_normal[254970:]\n",
    "    data_train_outlier = data_outlier[0:2200]\n",
    "    data_val_outlier = data_outlier[2200:2475]\n",
    "    data_test_outlier = data_outlier[2475:]\n",
    "    data_train = np.concatenate((data_train_normal, data_train_outlier), axis=0)\n",
    "    data_val = np.concatenate((data_val_normal, data_val_outlier), axis=0)\n",
    "    data_test = np.concatenate((data_test_normal, data_test_outlier), axis=0)\n",
    "    np.random.shuffle(data_train)\n",
    "    np.random.shuffle(data_val)\n",
    "    np.random.shuffle(data_test)"
   ]
  },
  {
   "cell_type": "code",
   "execution_count": 7,
   "metadata": {
    "collapsed": true
   },
   "outputs": [],
   "source": [
    "km = KMeans(n_clusters=10)"
   ]
  },
  {
   "cell_type": "code",
   "execution_count": 8,
   "metadata": {},
   "outputs": [
    {
     "data": {
      "text/plain": [
       "KMeans(algorithm='auto', copy_x=True, init='k-means++', max_iter=300,\n",
       "    n_clusters=10, n_init=10, n_jobs=1, precompute_distances='auto',\n",
       "    random_state=None, tol=0.0001, verbose=0)"
      ]
     },
     "execution_count": 8,
     "metadata": {},
     "output_type": "execute_result"
    }
   ],
   "source": [
    "km.fit(data)"
   ]
  },
  {
   "cell_type": "code",
   "execution_count": 9,
   "metadata": {},
   "outputs": [
    {
     "data": {
      "text/plain": [
       "1341596"
      ]
     },
     "execution_count": 9,
     "metadata": {},
     "output_type": "execute_result"
    }
   ],
   "source": [
    "sum(km.predict(data))"
   ]
  },
  {
   "cell_type": "code",
   "execution_count": 107,
   "metadata": {},
   "outputs": [
    {
     "name": "stdout",
     "output_type": "stream",
     "text": [
      "Outlier set accuracy:  0.8970588235294118\n",
      "Normal set accuracy:  0.9992587624863224\n",
      "Precision:  0.9207547169811321\n",
      "Recall:  0.8970588235294118\n"
     ]
    }
   ],
   "source": [
    "shuffle()\n",
    "\n",
    "clf = LogisticRegression(random_state=0, solver='lbfgs',\n",
    "                         multi_class='multinomial')\n",
    "clf.fit(data_train[:, :-1], data_train[:, -1])\n",
    "\n",
    "prediction_outlier = clf.predict(data_test_outlier[:, :-1])\n",
    "prediction_normal = clf.predict(data_test_normal[:, :-1])\n",
    "prediction = clf.predict(data_test[:, :-1])\n",
    "print('Outlier set accuracy: ', np.count_nonzero(prediction_outlier) / \n",
    "     prediction_outlier.shape[0])\n",
    "print('Normal set accuracy: ', (prediction_normal.shape[0] - np.count_nonzero(prediction_normal)) \n",
    "      / prediction_normal.shape[0])\n",
    "\n",
    "a = np.count_nonzero(prediction_outlier)\n",
    "b = np.count_nonzero(prediction_normal)\n",
    "print('Precision: ', a / (a + b))\n",
    "print('Recall: ', a / prediction_outlier.shape[0])"
   ]
  },
  {
   "cell_type": "code",
   "execution_count": 106,
   "metadata": {},
   "outputs": [
    {
     "name": "stdout",
     "output_type": "stream",
     "text": [
      "Outlier set accuracy:  0.9558823529411765\n",
      "Normal set accuracy:  0.9944230701351876\n",
      "Precision:  0.6220095693779905\n",
      "Recall:  0.9558823529411765\n"
     ]
    }
   ],
   "source": [
    "shuffle()\n",
    "\n",
    "gnb = GaussianNB()\n",
    "gnb.fit(data_train[:, :-1], data_train[:, -1])\n",
    "\n",
    "prediction_outlier = gnb.predict(data_test_outlier[:, :-1])\n",
    "prediction_normal = gnb.predict(data_test_normal[:, :-1])\n",
    "prediction = gnb.predict(data_test[:, :-1])\n",
    "print('Outlier set accuracy: ', np.count_nonzero(prediction_outlier) / \n",
    "     prediction_outlier.shape[0])\n",
    "print('Normal set accuracy: ', (prediction_normal.shape[0] - np.count_nonzero(prediction_normal)) \n",
    "      / prediction_normal.shape[0])\n",
    "\n",
    "a = np.count_nonzero(prediction_outlier)\n",
    "b = np.count_nonzero(prediction_normal)\n",
    "print('Precision: ', a / (a + b))\n",
    "print('Recall: ', a / prediction_outlier.shape[0])"
   ]
  },
  {
   "cell_type": "code",
   "execution_count": 13,
   "metadata": {},
   "outputs": [
    {
     "name": "stdout",
     "output_type": "stream",
     "text": [
      "Outlier set accuracy:  0.9963235294117647\n",
      "Normal set accuracy:  0.9999647029755392\n",
      "Precision:  0.9963235294117647\n",
      "Recall:  0.9963235294117647\n"
     ]
    }
   ],
   "source": [
    "shuffle()\n",
    "\n",
    "tree = DecisionTreeClassifier(random_state=0)\n",
    "tree.fit(data_train[:, :-1], data_train[:, -1])\n",
    "\n",
    "prediction_outlier = tree.predict(data_test_outlier[:, :-1])\n",
    "prediction_normal = tree.predict(data_test_normal[:, :-1])\n",
    "prediction = tree.predict(data_test[:, :-1])\n",
    "print('Outlier set accuracy: ', np.count_nonzero(prediction_outlier) / \n",
    "     prediction_outlier.shape[0])\n",
    "print('Normal set accuracy: ', (prediction_normal.shape[0] - np.count_nonzero(prediction_normal)) \n",
    "      / prediction_normal.shape[0])\n",
    "\n",
    "a = np.count_nonzero(prediction_outlier)\n",
    "b = np.count_nonzero(prediction_normal)\n",
    "print('Precision: ', a / (a + b))\n",
    "print('Recall: ', a / prediction_outlier.shape[0])"
   ]
  },
  {
   "cell_type": "code",
   "execution_count": 15,
   "metadata": {},
   "outputs": [
    {
     "name": "stdout",
     "output_type": "stream",
     "text": [
      "1339.3374779224396\n",
      "Outlier set accuracy:  0.9301470588235294\n",
      "Normal set accuracy:  0.9987999011683315\n",
      "Precision:  0.8815331010452961\n",
      "Recall:  0.9301470588235294\n"
     ]
    }
   ],
   "source": [
    "shuffle()\n",
    "\n",
    "SVM = SVC(kernel='linear',C=0.4)\n",
    "import time\n",
    "a = time.time()\n",
    "SVM.fit(data_train[:, :-1], data_train[:, -1])\n",
    "b = time.time()\n",
    "print(b - a)\n",
    "\n",
    "prediction_outlier = SVM.predict(data_test_outlier[:, :-1])\n",
    "prediction_normal = SVM.predict(data_test_normal[:, :-1])\n",
    "prediction = SVM.predict(data_test[:, :-1])\n",
    "print('Outlier set accuracy: ', np.count_nonzero(prediction_outlier) / \n",
    "     prediction_outlier.shape[0])\n",
    "print('Normal set accuracy: ', (prediction_normal.shape[0] - np.count_nonzero(prediction_normal)) \n",
    "      / prediction_normal.shape[0])\n",
    "\n",
    "a = np.count_nonzero(prediction_outlier)\n",
    "b = np.count_nonzero(prediction_normal)\n",
    "print('Precision: ', a / (a + b))\n",
    "print('Recall: ', a / prediction_outlier.shape[0])"
   ]
  },
  {
   "cell_type": "code",
   "execution_count": 11,
   "metadata": {},
   "outputs": [
    {
     "name": "stdout",
     "output_type": "stream",
     "text": [
      "Outlier set accuracy:  0.9007352941176471\n",
      "Normal set accuracy:  0.9991528714129398\n",
      "Precision:  0.9107806691449815\n",
      "Recall:  0.9007352941176471\n"
     ]
    }
   ],
   "source": [
    "shuffle()\n",
    "\n",
    "lda = LinearDiscriminantAnalysis()\n",
    "lda.fit(data_train[:, :-1], data_train[:, -1])\n",
    "\n",
    "prediction_outlier = lda.predict(data_test_outlier[:, :-1])\n",
    "prediction_normal = lda.predict(data_test_normal[:, :-1])\n",
    "prediction = lda.predict(data_test[:, :-1])\n",
    "print('Outlier set accuracy: ', np.count_nonzero(prediction_outlier) / \n",
    "     prediction_outlier.shape[0])\n",
    "print('Normal set accuracy: ', (prediction_normal.shape[0] - np.count_nonzero(prediction_normal)) \n",
    "      / prediction_normal.shape[0])\n",
    "\n",
    "a = np.count_nonzero(prediction_outlier)\n",
    "b = np.count_nonzero(prediction_normal)\n",
    "print('Precision: ', a / (a + b))\n",
    "print('Recall: ', a / prediction_outlier.shape[0])"
   ]
  },
  {
   "cell_type": "code",
   "execution_count": 15,
   "metadata": {},
   "outputs": [
    {
     "name": "stdout",
     "output_type": "stream",
     "text": [
      "Outlier set accuracy:  0.9448529411764706\n",
      "Normal set accuracy:  0.9980586636546539\n",
      "Precision:  0.8237179487179487\n",
      "Recall:  0.9448529411764706\n"
     ]
    }
   ],
   "source": [
    "shuffle()\n",
    "\n",
    "qda = QuadraticDiscriminantAnalysis()\n",
    "qda.fit(data_train[:, :-1], data_train[:, -1])\n",
    "\n",
    "prediction_outlier = qda.predict(data_test_outlier[:, :-1])\n",
    "prediction_normal = qda.predict(data_test_normal[:, :-1])\n",
    "prediction = qda.predict(data_test[:, :-1])\n",
    "print('Outlier set accuracy: ', np.count_nonzero(prediction_outlier) / \n",
    "     prediction_outlier.shape[0])\n",
    "print('Normal set accuracy: ', (prediction_normal.shape[0] - np.count_nonzero(prediction_normal)) \n",
    "      / prediction_normal.shape[0])\n",
    "\n",
    "a = np.count_nonzero(prediction_outlier)\n",
    "b = np.count_nonzero(prediction_normal)\n",
    "print('Precision: ', a / (a + b))\n",
    "print('Recall: ', a / prediction_outlier.shape[0])"
   ]
  },
  {
   "cell_type": "code",
   "execution_count": 16,
   "metadata": {},
   "outputs": [
    {
     "name": "stdout",
     "output_type": "stream",
     "text": [
      "257\n",
      "272\n"
     ]
    }
   ],
   "source": [
    "print(np.count_nonzero(prediction_outlier))\n",
    "print(prediction_outlier.shape[0])"
   ]
  },
  {
   "cell_type": "code",
   "execution_count": 42,
   "metadata": {},
   "outputs": [
    {
     "name": "stdout",
     "output_type": "stream",
     "text": [
      "0.6323529411764706\n",
      "0.9789982704458015\n",
      "0.2242503259452412\n",
      "0.6323529411764706\n"
     ]
    }
   ],
   "source": [
    "prediction_outlier = clf.predict(data_test_outlier[:, :-1])\n",
    "prediction_normal = clf.predict(data_test_normal[:, :-1])\n",
    "prediction = clf.predict(data_test[:, :-1])\n",
    "print((prediction_outlier.shape[0] - np.count_nonzero(prediction_outlier)) / \n",
    "     prediction_outlier.shape[0])\n",
    "print(np.count_nonzero(prediction_normal) / prediction_normal.shape[0])\n",
    "\n",
    "a = prediction_outlier.shape[0] - np.count_nonzero(prediction_outlier)\n",
    "b = prediction_normal.shape[0] - np.count_nonzero(prediction_normal)\n",
    "print(a / (a + b))\n",
    "print(a / prediction_outlier.shape[0])"
   ]
  }
 ],
 "metadata": {
  "kernelspec": {
   "display_name": "Python ml",
   "language": "python",
   "name": "ml"
  },
  "language_info": {
   "codemirror_mode": {
    "name": "ipython",
    "version": 3
   },
   "file_extension": ".py",
   "mimetype": "text/x-python",
   "name": "python",
   "nbconvert_exporter": "python",
   "pygments_lexer": "ipython3",
   "version": "3.6.7"
  }
 },
 "nbformat": 4,
 "nbformat_minor": 2
}
